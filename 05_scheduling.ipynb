{
 "cells": [
  {
   "cell_type": "markdown",
   "metadata": {},
   "source": [
    "# Question 5\n",
    "\n",
    "Resource: https://web.itu.edu.tr/topcuil/ya/SEN301previousexamquestions.pdf\n",
    "\n",
    "Maçka Police Station employs 30 police officers. Each officer works for 5 days per week. The crime rate fluctuates with the day of week, so the number of the police officers required each day depends on which day of the week it is: Monday, 18; Tuesday, 24; Wednesday, 25; Thursday, 16; Friday, 21; Saturday, 28; Sunday, 18. The Police Station wants to schedule police officers to minimize the number whose days off are not consecutive. Formulate an LP that will accomplish this goal. "
   ]
  },
  {
   "cell_type": "code",
   "execution_count": 31,
   "metadata": {},
   "outputs": [],
   "source": [
    "# Since there are 7 days in a week, and the minimum work days is 5, the ideal case is:\n",
    "# work 2 days, take 1 day off, work 2 days again, take 1 day off, work 1 day."
   ]
  },
  {
   "cell_type": "code",
   "execution_count": 40,
   "metadata": {},
   "outputs": [
    {
     "data": {
      "text/plain": [
       "'OPTIMAL'"
      ]
     },
     "execution_count": 40,
     "metadata": {},
     "output_type": "execute_result"
    }
   ],
   "source": [
    "from ortools.sat.python import cp_model\n",
    "\n",
    "n_officers = 30\n",
    "n_days = 5\n",
    "officers_per_day = [18, 24, 25, 16, 21, 28, 18]\n",
    "\n",
    "model = cp_model.CpModel()\n",
    "\n",
    "work_days = {}\n",
    "for i in range(n_officers):\n",
    "  for j in range(7):\n",
    "    work_days[i, j] = model.NewBoolVar( f'officer{i}-day{j}')\n",
    "  \n",
    "  # Each officer works 5 days per week.\n",
    "  model.Add(sum(work_days[i, j] for j in range(7)) == n_days)\n",
    "\n",
    "# Each day has a fixed number of officers.\n",
    "for i in range(7):\n",
    "  model.Add(sum(work_days[j, i] for j in range(n_officers)) == officers_per_day[i])\n",
    "\n",
    "# https://github.com/google/or-tools/blob/stable/ortools/sat/docs/boolean_logic.md#product-of-two-boolean-variables\n",
    "# Track how often each officer take days off on consecutive days.\n",
    "# For every 3 days, if the officer takes 2 days off, then the officer only works for 1 day.\n",
    "for i in range(n_officers):\n",
    "  for j in range(7):\n",
    "    # We want them to work consecutively.\n",
    "    model.Add(sum(work_days[i, (j+k) % 7] for k in range(3)) >= 2)\n",
    "\n",
    "solver = cp_model.CpSolver()\n",
    "status = solver.Solve(model)\n",
    "solver.StatusName(status)\n"
   ]
  },
  {
   "cell_type": "code",
   "execution_count": 42,
   "metadata": {},
   "outputs": [
    {
     "name": "stdout",
     "output_type": "stream",
     "text": [
      "Day 0: 18 [0, 1, 5, 6, 9, 10, 18, 19, 20, 21, 22, 23, 24, 25, 26, 27, 28, 29]\n",
      "Day 1: 24 [2, 3, 4, 7, 8, 11, 12, 13, 14, 15, 16, 17, 18, 19, 20, 21, 22, 23, 24, 25, 26, 27, 28, 29]\n",
      "Day 2: 25 [0, 1, 2, 3, 4, 5, 6, 7, 8, 9, 10, 11, 12, 13, 14, 15, 16, 17, 18, 19, 20, 21, 22, 23, 24]\n",
      "Day 3: 16 [0, 1, 2, 4, 5, 6, 7, 8, 9, 10, 12, 25, 26, 27, 28, 29]\n",
      "Day 4: 21 [0, 3, 10, 11, 13, 14, 15, 16, 17, 18, 19, 20, 21, 22, 23, 24, 25, 26, 27, 28, 29]\n",
      "Day 5: 28 [1, 2, 3, 4, 5, 6, 7, 8, 9, 11, 12, 13, 14, 15, 16, 17, 18, 19, 20, 21, 22, 23, 24, 25, 26, 27, 28, 29]\n",
      "Day 6: 18 [0, 1, 2, 3, 4, 5, 6, 7, 8, 9, 10, 11, 12, 13, 14, 15, 16, 17]\n"
     ]
    }
   ],
   "source": [
    "from collections import defaultdict\n",
    "officers_by_day = defaultdict(list)\n",
    "days_by_officer = defaultdict(list)\n",
    "\n",
    "for i in range(n_officers):\n",
    "  for j in range(7):\n",
    "    if solver.Value(work_days[i, j]):\n",
    "      officers_by_day[j].append(i)\n",
    "      days_by_officer[i].append(j)\n",
    "\n",
    "for j in range(7):\n",
    "  print(f'Day {j}: {len(officers_by_day[j])} {officers_by_day[j]}')"
   ]
  }
 ],
 "metadata": {
  "kernelspec": {
   "display_name": ".venv",
   "language": "python",
   "name": "python3"
  },
  "language_info": {
   "codemirror_mode": {
    "name": "ipython",
    "version": 3
   },
   "file_extension": ".py",
   "mimetype": "text/x-python",
   "name": "python",
   "nbconvert_exporter": "python",
   "pygments_lexer": "ipython3",
   "version": "3.11.6"
  }
 },
 "nbformat": 4,
 "nbformat_minor": 2
}
