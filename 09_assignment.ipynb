{
 "cells": [
  {
   "cell_type": "markdown",
   "id": "c5a4e159-58a1-4f8a-8d36-199dc6fa12df",
   "metadata": {},
   "source": [
    "# PROBLEM    05 – 0186\n",
    "\n",
    "https://stemez.com/subjects/science/1HOperationsReseach/1HOperationsReseach.php"
   ]
  },
  {
   "cell_type": "code",
   "execution_count": 2,
   "id": "40f3f8e4-767e-4d1c-b474-6ac4a69d9c8a",
   "metadata": {},
   "outputs": [],
   "source": [
    "# Supplies.\n",
    "w1 = 15\n",
    "w2 = 5\n",
    "\n",
    "costs = [\n",
    "    [5, 8],\n",
    "    [4, 10]\n",
    "]\n",
    "\n",
    "# Demands.\n",
    "m1 = 12\n",
    "m2 = 8"
   ]
  },
  {
   "cell_type": "code",
   "execution_count": 3,
   "id": "e837ea67-1cac-4a1a-bce8-9b29c1846d11",
   "metadata": {},
   "outputs": [],
   "source": [
    "from ortools.sat.python import cp_model\n",
    "\n",
    "model = cp_model.CpModel()\n",
    "\n",
    "a = model.NewIntVar(0, 15, 'w1_m1')\n",
    "b = model.NewIntVar(0, 15, 'w1_m2')\n",
    "c = model.NewIntVar(0, 5, 'w2_m1')\n",
    "d = model.NewIntVar(0, 5, 'w2_m2')\n",
    "\n",
    "model.Add(a + b == w1)\n",
    "model.Add(c + d == w2)\n",
    "model.Add(a + c == m1)\n",
    "model.Add(b + d == m2)\n",
    "model.Minimize(a * 5 + b * 8 + c * 4 + d * 10)"
   ]
  },
  {
   "cell_type": "code",
   "execution_count": 4,
   "id": "953b7b0f-5592-4c48-832a-2aeafe8ad0ac",
   "metadata": {},
   "outputs": [
    {
     "data": {
      "text/plain": [
       "'OPTIMAL'"
      ]
     },
     "execution_count": 4,
     "metadata": {},
     "output_type": "execute_result"
    }
   ],
   "source": [
    "solver = cp_model.CpSolver()\n",
    "status = solver.Solve(model)\n",
    "solver.StatusName(status)"
   ]
  },
  {
   "cell_type": "code",
   "execution_count": 5,
   "id": "41608f21-aa58-41f3-a19e-9b5bf9adb166",
   "metadata": {},
   "outputs": [
    {
     "name": "stdout",
     "output_type": "stream",
     "text": [
      "Total cost is: 119.0\n"
     ]
    }
   ],
   "source": [
    "print('Total cost is:', solver.ObjectiveValue())"
   ]
  },
  {
   "cell_type": "code",
   "execution_count": 6,
   "id": "11553a73-0aa4-4370-8c28-88b73c3c2fb1",
   "metadata": {},
   "outputs": [
    {
     "data": {
      "text/plain": [
       "(7, 8, 5, 0)"
      ]
     },
     "execution_count": 6,
     "metadata": {},
     "output_type": "execute_result"
    }
   ],
   "source": [
    "solver.Value(a), solver.Value(b), solver.Value(c), solver.Value(d)"
   ]
  }
 ],
 "metadata": {
  "kernelspec": {
   "display_name": "Python 3 (ipykernel)",
   "language": "python",
   "name": "python3"
  },
  "language_info": {
   "codemirror_mode": {
    "name": "ipython",
    "version": 3
   },
   "file_extension": ".py",
   "mimetype": "text/x-python",
   "name": "python",
   "nbconvert_exporter": "python",
   "pygments_lexer": "ipython3",
   "version": "3.11.6"
  },
  "widgets": {
   "application/vnd.jupyter.widget-state+json": {
    "state": {},
    "version_major": 2,
    "version_minor": 0
   }
  }
 },
 "nbformat": 4,
 "nbformat_minor": 5
}
