{
 "cells": [
  {
   "cell_type": "markdown",
   "metadata": {},
   "source": [
    "# Real-world Example\n",
    "\n",
    "Resource: https://web.itu.edu.tr/topcuil/ya/SEN301previousexamquestions.pdf\n",
    "\n",
    "\n",
    "A company is involved in the production of two items (X and Y). The resources need to produce X and Y are twofold, namely machine time for automatic processing and craftsman time for hand finishing. The table below gives the number of minutes required for each item\n",
    "\n",
    "| Item | Machine time |  Craftsman time |\n",
    "| - | - | - |\n",
    "| Item X | 13 | 20 |\n",
    "| Item Y | 19 | 29 |\n",
    "\n",
    "\n",
    "The company has 40 hours of machine time available in the next working week but only 35 hours of craftsman time. Machine time is costed at £10 per hour worked and craftsman time is costed at £2 per hour worked. Both machine and craftsman idle times incur no costs. The revenue received for each item produced (all production is sold) is £20 for X and £30 for Y. The company has a specific contract to produce 10 items of X per week for a particular customer. Formulate the problem of deciding how much to produce per week as a linear program. "
   ]
  },
  {
   "cell_type": "code",
   "execution_count": 122,
   "metadata": {},
   "outputs": [
    {
     "name": "stdout",
     "output_type": "stream",
     "text": [
      "Number of variables = 2\n"
     ]
    }
   ],
   "source": [
    "from ortools.linear_solver import pywraplp\n",
    "\n",
    "solver = pywraplp.Solver.CreateSolver(\"SAT\")\n",
    "if not solver:\n",
    "  raise RuntimeError('Could not create solver')\n",
    "\n",
    "x = solver.IntVar(10, solver.infinity(), \"x\")\n",
    "y = solver.IntVar(0, solver.infinity(), \"y\")\n",
    "\n",
    "print(\"Number of variables =\", solver.NumVariables())"
   ]
  },
  {
   "cell_type": "code",
   "execution_count": 123,
   "metadata": {},
   "outputs": [
    {
     "name": "stdout",
     "output_type": "stream",
     "text": [
      "Number of constraints = 2\n"
     ]
    }
   ],
   "source": [
    "# Machine time constraint.\n",
    "solver.Add(13 * x + 19 * y <= 40 * 60)\n",
    "\n",
    "# Craftsman time constraint.\n",
    "solver.Add(20 * x + 29 * y <= 35 * 60)\n",
    "\n",
    "print(\"Number of constraints =\", solver.NumConstraints())"
   ]
  },
  {
   "cell_type": "code",
   "execution_count": 124,
   "metadata": {},
   "outputs": [],
   "source": [
    "def cost_per_hour(*, minutes, cost):\n",
    "  return minutes / 60 * cost\n",
    "\n",
    "# Objective function.\n",
    "solver.Maximize(\n",
    "  x * (20 - cost_per_hour(minutes=13, cost=10) + cost_per_hour(minutes=20, cost=2)) + \n",
    "  y * (30 - cost_per_hour(minutes=19, cost=10) + cost_per_hour(minutes=29, cost=2))\n",
    ")"
   ]
  },
  {
   "cell_type": "code",
   "execution_count": 125,
   "metadata": {},
   "outputs": [
    {
     "name": "stdout",
     "output_type": "stream",
     "text": [
      "Solving with CP-SAT solver v9.8.3296\n"
     ]
    }
   ],
   "source": [
    "print(f\"Solving with {solver.SolverVersion()}\")\n",
    "status = solver.Solve()"
   ]
  },
  {
   "cell_type": "code",
   "execution_count": 126,
   "metadata": {},
   "outputs": [
    {
     "name": "stdout",
     "output_type": "stream",
     "text": [
      "Solution:\n",
      "Objective value = 2001.2\n",
      "x = 12.0 machine_hours = 2.6 craftsman_hours = 4.0\n",
      "y = 64.0 machine_hours = 20.3 craftsman_hours = 30.9\n"
     ]
    }
   ],
   "source": [
    "if status == pywraplp.Solver.OPTIMAL:\n",
    "    print(\"Solution:\")\n",
    "    print(f\"Objective value = {solver.Objective().Value():0.1f}\")\n",
    "    print(f\"x = {x.solution_value():0.1f} machine_hours = {x.solution_value() * 13 / 60:0.1f} craftsman_hours = {x.solution_value() * 20 / 60:0.1f}\")\n",
    "    print(f\"y = {y.solution_value():0.1f} machine_hours = {y.solution_value() * 19 / 60:0.1f} craftsman_hours = {y.solution_value() * 29 / 60:0.1f}\")\n",
    "else:\n",
    "    print(\"The problem does not have an optimal solution.\")"
   ]
  },
  {
   "cell_type": "markdown",
   "metadata": {},
   "source": [
    "When `y = 0`:\n",
    "\n",
    "```\n",
    "Solution:\n",
    "Objective value = 1942.5\n",
    "x = 105.0 machine_hours = 22.8 craftsman_hours = 35.0\n",
    "y = 0.0 machine_hours = 0.0 craftsman_hours = 0.0\n",
    "```\n",
    "\n",
    "\n",
    "When `x = 0`:\n",
    "\n",
    "```\n",
    "Solution:\n",
    "Objective value = 2001.6\n",
    "x = 0.0 machine_hours = 0.0 craftsman_hours = 0.0\n",
    "y = 72.0 machine_hours = 22.8 craftsman_hours = 34.8\n",
    "```\n",
    "\n",
    "Optimal without the min `x = 10` constraint:\n",
    "\n",
    "```\n",
    "Solution:\n",
    "Objective value = 2010.8\n",
    "x = 2.0 machine_hours = 0.4 craftsman_hours = 0.7\n",
    "y = 71.0 machine_hours = 22.5 craftsman_hours = 34.3\n",
    "```"
   ]
  }
 ],
 "metadata": {
  "kernelspec": {
   "display_name": ".venv",
   "language": "python",
   "name": "python3"
  },
  "language_info": {
   "codemirror_mode": {
    "name": "ipython",
    "version": 3
   },
   "file_extension": ".py",
   "mimetype": "text/x-python",
   "name": "python",
   "nbconvert_exporter": "python",
   "pygments_lexer": "ipython3",
   "version": "3.11.6"
  }
 },
 "nbformat": 4,
 "nbformat_minor": 2
}
