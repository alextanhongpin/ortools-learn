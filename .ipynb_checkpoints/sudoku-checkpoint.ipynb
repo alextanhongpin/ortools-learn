{
 "cells": [
  {
   "cell_type": "code",
   "execution_count": 1,
   "id": "norman-julian",
   "metadata": {},
   "outputs": [],
   "source": [
    "from ortools.sat.python import cp_model"
   ]
  },
  {
   "cell_type": "code",
   "execution_count": 2,
   "id": "continent-brazil",
   "metadata": {},
   "outputs": [],
   "source": [
    "class PossibleSumSolutionPrinter(cp_model.CpSolverSolutionCallback):\n",
    "    def __init__(self, x, y):\n",
    "        cp_model.CpSolverSolutionCallback.__init__(self)\n",
    "        self._solution_count = 0\n",
    "        self._x = x\n",
    "        self._y = y\n",
    "\n",
    "    def on_solution_callback(self):\n",
    "        self._solution_count += 1\n",
    "        print(\"Solution %i\" % self._solution_count)\n",
    "        print(\"x = {}, y = {}\".format(self.Value(self._x), self.Value(self._y)))"
   ]
  },
  {
   "cell_type": "code",
   "execution_count": 3,
   "id": "selective-planner",
   "metadata": {},
   "outputs": [
    {
     "name": "stdout",
     "output_type": "stream",
     "text": [
      "Solution 1\n",
      "x = 1, y = 8\n",
      "Solution 2\n",
      "x = 1, y = 7\n",
      "Solution 3\n",
      "x = 2, y = 7\n",
      "Solution 4\n",
      "x = 2, y = 6\n",
      "Solution 5\n",
      "x = 1, y = 6\n",
      "Solution 6\n",
      "x = 3, y = 6\n",
      "Solution 7\n",
      "x = 3, y = 5\n",
      "Solution 8\n",
      "x = 2, y = 5\n",
      "Solution 9\n",
      "x = 1, y = 5\n",
      "Solution 10\n",
      "x = 4, y = 5\n",
      "Solution 11\n",
      "x = 3, y = 4\n",
      "Solution 12\n",
      "x = 2, y = 4\n",
      "Solution 13\n",
      "x = 1, y = 4\n",
      "Solution 14\n",
      "x = 5, y = 4\n",
      "Solution 15\n",
      "x = 5, y = 3\n",
      "Solution 16\n",
      "x = 4, y = 3\n",
      "Solution 17\n",
      "x = 2, y = 3\n",
      "Solution 18\n",
      "x = 6, y = 3\n",
      "Solution 19\n",
      "x = 6, y = 2\n",
      "Solution 20\n",
      "x = 5, y = 2\n",
      "Solution 21\n",
      "x = 4, y = 2\n",
      "Solution 22\n",
      "x = 3, y = 2\n",
      "Solution 23\n",
      "x = 7, y = 2\n",
      "Solution 24\n",
      "x = 7, y = 0\n",
      "Solution 25\n",
      "x = 7, y = 1\n",
      "Solution 26\n",
      "x = 6, y = 1\n",
      "Solution 27\n",
      "x = 6, y = 0\n",
      "Solution 28\n",
      "x = 5, y = 0\n",
      "Solution 29\n",
      "x = 5, y = 1\n",
      "Solution 30\n",
      "x = 4, y = 1\n",
      "Solution 31\n",
      "x = 8, y = 1\n",
      "Solution 32\n",
      "x = 8, y = 0\n",
      "Solution 33\n",
      "x = 9, y = 0\n",
      "Solution 34\n",
      "x = 0, y = 6\n",
      "Solution 35\n",
      "x = 0, y = 7\n",
      "Solution 36\n",
      "x = 0, y = 8\n",
      "Solution 37\n",
      "x = 0, y = 9\n",
      "Solution 38\n",
      "x = 0, y = 5\n"
     ]
    },
    {
     "data": {
      "text/plain": [
       "4"
      ]
     },
     "execution_count": 3,
     "metadata": {},
     "output_type": "execute_result"
    }
   ],
   "source": [
    "model = cp_model.CpModel()\n",
    "\n",
    "x = model.NewIntVar(0, 10, \"x\")\n",
    "y = model.NewIntVar(0, 10, \"y\")\n",
    "\n",
    "model.Add(x + y >= 5)\n",
    "model.Add(x + y < 10)\n",
    "\n",
    "model.AddAllDifferent([x, y])\n",
    "# model.Maximize(x + y)\n",
    "# model.Minimize(x + y)\n",
    "\n",
    "solution_printer = PossibleSumSolutionPrinter(x, y)\n",
    "solver = cp_model.CpSolver()\n",
    "solver.parameters.enumerate_all_solutions = True\n",
    "\n",
    "solver.Solve(model, solution_printer)"
   ]
  },
  {
   "cell_type": "code",
   "execution_count": 4,
   "id": "narrative-ebony",
   "metadata": {},
   "outputs": [
    {
     "data": {
      "text/plain": [
       "(0, 5)"
      ]
     },
     "execution_count": 4,
     "metadata": {},
     "output_type": "execute_result"
    }
   ],
   "source": [
    "solver.Value(x), solver.Value(y)"
   ]
  },
  {
   "cell_type": "markdown",
   "id": "human-welding",
   "metadata": {},
   "source": [
    "# Solving Sudoku"
   ]
  },
  {
   "cell_type": "code",
   "execution_count": 5,
   "id": "considered-horizon",
   "metadata": {},
   "outputs": [],
   "source": [
    "import numpy as np"
   ]
  },
  {
   "cell_type": "code",
   "execution_count": 6,
   "id": "dutch-provision",
   "metadata": {},
   "outputs": [
    {
     "name": "stdout",
     "output_type": "stream",
     "text": [
      ". 6 . | 3 . . | 8 . 4\n",
      "5 3 7 | . 9 . | . . .\n",
      ". 4 . | . . 6 | 3 . 7\n",
      "------+-------+------\n",
      ". 9 . | . 5 1 | 2 3 8\n",
      ". . . | . . . | . . .\n",
      "7 1 3 | 6 2 . | . 4 .\n",
      "------+-------+------\n",
      "3 . 6 | 4 . . | . 1 .\n",
      ". . . | . 6 . | 5 2 3\n",
      "1 . 2 | . . 9 | . 8 .\n"
     ]
    }
   ],
   "source": [
    "sudoku = \"\"\". 6 . | 3 . . | 8 . 4\n",
    "5 3 7 | . 9 . | . . .\n",
    ". 4 . | . . 6 | 3 . 7\n",
    "------+-------+------\n",
    ". 9 . | . 5 1 | 2 3 8\n",
    ". . . | . . . | . . .\n",
    "7 1 3 | 6 2 . | . 4 .\n",
    "------+-------+------\n",
    "3 . 6 | 4 . . | . 1 .\n",
    ". . . | . 6 . | 5 2 3\n",
    "1 . 2 | . . 9 | . 8 .\"\"\"\n",
    "print(sudoku)"
   ]
  },
  {
   "cell_type": "code",
   "execution_count": 7,
   "id": "passive-classroom",
   "metadata": {},
   "outputs": [
    {
     "data": {
      "text/plain": [
       "'.6.3..8.4\\n537.9....\\n.4...63.7\\n\\n.9..51238\\n.........\\n71362..4.\\n\\n3.64...1.\\n....6.523\\n1.2..9.8.'"
      ]
     },
     "execution_count": 7,
     "metadata": {},
     "output_type": "execute_result"
    }
   ],
   "source": [
    "sudoku = sudoku.replace(\"-\", \"\")\n",
    "sudoku = sudoku.replace(\"|\", \"\")\n",
    "sudoku = sudoku.replace(\"+\", \"\")\n",
    "sudoku = sudoku.replace(\" \", \"\")\n",
    "sudoku"
   ]
  },
  {
   "cell_type": "code",
   "execution_count": 8,
   "id": "worthy-petite",
   "metadata": {},
   "outputs": [
    {
     "data": {
      "text/plain": [
       "array([[None, 6, None, 3, None, None, 8, None, 4],\n",
       "       [5, 3, 7, None, 9, None, None, None, None],\n",
       "       [None, 4, None, None, None, 6, 3, None, 7],\n",
       "       [None, 9, None, None, 5, 1, 2, 3, 8],\n",
       "       [None, None, None, None, None, None, None, None, None],\n",
       "       [7, 1, 3, 6, 2, None, None, 4, None],\n",
       "       [3, None, 6, 4, None, None, None, 1, None],\n",
       "       [None, None, None, None, 6, None, 5, 2, 3],\n",
       "       [1, None, 2, None, None, 9, None, 8, None]], dtype=object)"
      ]
     },
     "execution_count": 8,
     "metadata": {},
     "output_type": "execute_result"
    }
   ],
   "source": [
    "grids = []\n",
    "for row in sudoku.split(\"\\n\"):\n",
    "    if row.strip() == \"\":\n",
    "        continue\n",
    "    grids.append([int(col) if col != \".\" else None for col in row])\n",
    "grids = np.array(grids)\n",
    "grids"
   ]
  },
  {
   "cell_type": "code",
   "execution_count": 9,
   "id": "august-dodge",
   "metadata": {},
   "outputs": [],
   "source": [
    "model = cp_model.CpModel()\n",
    "result = np.full([9, 9], None)\n",
    "\n",
    "for i, row in enumerate(grids):\n",
    "    for j, n in enumerate(row):\n",
    "        if n is None:\n",
    "            # For cells that are empty, try to find the values.\n",
    "            result[i, j] = model.NewIntVar(\n",
    "                1, 9, f\"row_{i}_col_{j}\"\n",
    "            )  # Give the variable a unique name.\n",
    "        else:\n",
    "            # If the value exists, don't need to calculate them again.\n",
    "            result[i, j] = model.NewConstant(n)"
   ]
  },
  {
   "cell_type": "code",
   "execution_count": 10,
   "id": "stuck-roller",
   "metadata": {},
   "outputs": [],
   "source": [
    "# All rows must be unique.\n",
    "for row in result:\n",
    "    model.AddAllDifferent(row)\n",
    "\n",
    "# All columns must be unique.\n",
    "for i in range(0, 9):\n",
    "    model.AddAllDifferent(result[:, i])"
   ]
  },
  {
   "cell_type": "code",
   "execution_count": 11,
   "id": "sapphire-traveler",
   "metadata": {},
   "outputs": [],
   "source": [
    "# All cells must be unique.\n",
    "for i in range(0, 3):\n",
    "    for j in range(0, 3):\n",
    "        ii, jj = i + 1, j + 1\n",
    "        model.AddAllDifferent(result[i * 3 : ii * 3, j * 3 : jj * 3].reshape(-1))"
   ]
  },
  {
   "cell_type": "code",
   "execution_count": 12,
   "id": "appointed-victim",
   "metadata": {},
   "outputs": [
    {
     "data": {
      "text/plain": [
       "4"
      ]
     },
     "execution_count": 12,
     "metadata": {},
     "output_type": "execute_result"
    }
   ],
   "source": [
    "solver = cp_model.CpSolver()\n",
    "solver.Solve(model)"
   ]
  },
  {
   "cell_type": "code",
   "execution_count": 13,
   "id": "bacterial-liverpool",
   "metadata": {},
   "outputs": [],
   "source": [
    "for i, row in enumerate(grids):\n",
    "    for j, col in enumerate(row):\n",
    "        grids[i, j] = solver.Value(result[i, j])"
   ]
  },
  {
   "cell_type": "code",
   "execution_count": 14,
   "id": "variable-minnesota",
   "metadata": {},
   "outputs": [
    {
     "name": "stdout",
     "output_type": "stream",
     "text": [
      "[[2 6 1 3 7 5 8 9 4]\n",
      " [5 3 7 8 9 4 1 6 2]\n",
      " [9 4 8 2 1 6 3 5 7]\n",
      " [6 9 4 7 5 1 2 3 8]\n",
      " [8 2 5 9 4 3 6 7 1]\n",
      " [7 1 3 6 2 8 9 4 5]\n",
      " [3 5 6 4 8 2 7 1 9]\n",
      " [4 8 9 1 6 7 5 2 3]\n",
      " [1 7 2 5 3 9 4 8 6]]\n"
     ]
    }
   ],
   "source": [
    "print(grids)"
   ]
  },
  {
   "cell_type": "code",
   "execution_count": null,
   "id": "broadband-explorer",
   "metadata": {},
   "outputs": [],
   "source": []
  }
 ],
 "metadata": {
  "kernelspec": {
   "display_name": "Python 3 (ipykernel)",
   "language": "python",
   "name": "python3"
  },
  "language_info": {
   "codemirror_mode": {
    "name": "ipython",
    "version": 3
   },
   "file_extension": ".py",
   "mimetype": "text/x-python",
   "name": "python",
   "nbconvert_exporter": "python",
   "pygments_lexer": "ipython3",
   "version": "3.9.12"
  }
 },
 "nbformat": 4,
 "nbformat_minor": 5
}
