{
 "cells": [
  {
   "cell_type": "markdown",
   "id": "hourly-thesaurus",
   "metadata": {},
   "source": [
    "# Integer Optimization\n",
    "\n",
    "Linear optimization that requires some of the variables to be integers are called Mixed Integer Problems (MIPs).\n",
    "\n",
    "\n",
    "Severals ways to solve MIP problems:\n",
    "- MPSolver\n",
    "- CP-SAT solver\n",
    "- Original CP solver"
   ]
  },
  {
   "cell_type": "code",
   "execution_count": 1,
   "id": "compound-ethiopia",
   "metadata": {},
   "outputs": [],
   "source": [
    "from ortools.linear_solver import pywraplp"
   ]
  },
  {
   "cell_type": "code",
   "execution_count": 2,
   "id": "related-petersburg",
   "metadata": {},
   "outputs": [],
   "source": [
    "# Create the mip solver with the SCIP backend.\n",
    "# SCIP stands for `Solving Constraint Integer Programs`\n",
    "solver = pywraplp.Solver.CreateSolver(\"SCIP\")"
   ]
  },
  {
   "cell_type": "markdown",
   "id": "preceding-grave",
   "metadata": {},
   "source": [
    "#### 1. Define the variables"
   ]
  },
  {
   "cell_type": "code",
   "execution_count": 3,
   "id": "secondary-consideration",
   "metadata": {},
   "outputs": [
    {
     "name": "stdout",
     "output_type": "stream",
     "text": [
      "Number of variables = 2\n"
     ]
    }
   ],
   "source": [
    "infinity = solver.infinity()\n",
    "\n",
    "# x and y are integer non-negative variables.\n",
    "x = solver.IntVar(0.0, infinity, \"x\")\n",
    "y = solver.IntVar(0.0, infinity, \"y\")\n",
    "\n",
    "# In the previous examples, we use solver.NumVar instead of solver.IntVar.\n",
    "\n",
    "print(\"Number of variables =\", solver.NumVariables())"
   ]
  },
  {
   "cell_type": "markdown",
   "id": "indonesian-auckland",
   "metadata": {},
   "source": [
    "#### 2. Define the constraints"
   ]
  },
  {
   "cell_type": "code",
   "execution_count": 4,
   "id": "graduate-rubber",
   "metadata": {},
   "outputs": [
    {
     "name": "stdout",
     "output_type": "stream",
     "text": [
      "Number of constraints = 2\n"
     ]
    }
   ],
   "source": [
    "# x + 7 * y <= 17.5\n",
    "solver.Add(x + 7 * y <= 17.5)\n",
    "\n",
    "# x <= 3.5\n",
    "solver.Add(x <= 3.5)\n",
    "\n",
    "print(\"Number of constraints =\", solver.NumConstraints())"
   ]
  },
  {
   "cell_type": "markdown",
   "id": "interim-composite",
   "metadata": {},
   "source": [
    "#### 3. Define the objective"
   ]
  },
  {
   "cell_type": "code",
   "execution_count": 5,
   "id": "literary-packet",
   "metadata": {},
   "outputs": [],
   "source": [
    "# Maximize x + 10 * y\n",
    "solver.Maximize(x + 10 * y)"
   ]
  },
  {
   "cell_type": "markdown",
   "id": "grateful-settlement",
   "metadata": {},
   "source": [
    "#### 4. Call the solver"
   ]
  },
  {
   "cell_type": "code",
   "execution_count": 6,
   "id": "elementary-extra",
   "metadata": {},
   "outputs": [
    {
     "data": {
      "text/plain": [
       "0"
      ]
     },
     "execution_count": 6,
     "metadata": {},
     "output_type": "execute_result"
    }
   ],
   "source": [
    "status = solver.Solve()\n",
    "status"
   ]
  },
  {
   "cell_type": "code",
   "execution_count": 7,
   "id": "handmade-pixel",
   "metadata": {},
   "outputs": [
    {
     "name": "stdout",
     "output_type": "stream",
     "text": [
      "Solution:\n",
      "Objective value = 23.0\n",
      "x = 3.0\n",
      "y = 2.0\n",
      "\n",
      "Advanced usage:\n",
      "Problem solved in 351.000000 milliseconds\n",
      "Problem solved in 0 iterations\n",
      "Problem solved in 1 branch-and-bound nodes\n"
     ]
    }
   ],
   "source": [
    "if status == pywraplp.Solver.OPTIMAL:\n",
    "    print(\"Solution:\")\n",
    "    print(\"Objective value =\", solver.Objective().Value())\n",
    "    print(\"x =\", x.solution_value())\n",
    "    print(\"y =\", y.solution_value())\n",
    "else:\n",
    "    print(\"The problem does not have an optimal solution\")\n",
    "\n",
    "\n",
    "print(\"\\nAdvanced usage:\")\n",
    "print(\"Problem solved in %f milliseconds\" % solver.wall_time())\n",
    "print(\"Problem solved in %d iterations\" % solver.iterations())\n",
    "print(\"Problem solved in %d branch-and-bound nodes\" % solver.nodes())"
   ]
  },
  {
   "cell_type": "markdown",
   "id": "deadly-indiana",
   "metadata": {},
   "source": [
    "## Comparing the Linear and Integer optimization\n",
    "\n",
    "We will perform the following to compare the result\n",
    "\n",
    "- instead of creating the MIP solver with SCIP backend\n",
    "    - create the linear solver with GLOP backend\n",
    "- instead of declaring the integer variables `IntVar`\n",
    "    - declare continuous variables `NumVar`"
   ]
  },
  {
   "cell_type": "code",
   "execution_count": 8,
   "id": "retained-summer",
   "metadata": {},
   "outputs": [
    {
     "name": "stdout",
     "output_type": "stream",
     "text": [
      "Number of variables = 2\n"
     ]
    }
   ],
   "source": [
    "solver = pywraplp.Solver.CreateSolver(\"GLOP\")\n",
    "\n",
    "infinity = solver.infinity()\n",
    "\n",
    "x = solver.NumVar(0.0, infinity, \"x\")\n",
    "y = solver.NumVar(0.0, infinity, \"y\")\n",
    "\n",
    "print(\"Number of variables =\", solver.NumVariables())"
   ]
  },
  {
   "cell_type": "code",
   "execution_count": 9,
   "id": "operating-enzyme",
   "metadata": {},
   "outputs": [
    {
     "name": "stdout",
     "output_type": "stream",
     "text": [
      "Number of constraints = 2\n"
     ]
    },
    {
     "data": {
      "text/plain": [
       "0"
      ]
     },
     "execution_count": 9,
     "metadata": {},
     "output_type": "execute_result"
    }
   ],
   "source": [
    "# x + 7 * y <= 17.5\n",
    "solver.Add(x + 7 * y <= 17.5)\n",
    "\n",
    "# x <= 3.5\n",
    "solver.Add(x <= 3.5)\n",
    "\n",
    "print(\"Number of constraints =\", solver.NumConstraints())\n",
    "\n",
    "# Maximize x + 10 * y\n",
    "solver.Maximize(x + 10 * y)\n",
    "\n",
    "status = solver.Solve()\n",
    "status"
   ]
  },
  {
   "cell_type": "code",
   "execution_count": 10,
   "id": "enclosed-collector",
   "metadata": {},
   "outputs": [
    {
     "name": "stdout",
     "output_type": "stream",
     "text": [
      "Solution:\n",
      "Objective value = 25.0\n",
      "x = 0.0\n",
      "y = 2.5\n",
      "\n",
      "Advanced usage:\n",
      "Problem solved in 30081.000000 milliseconds\n",
      "Problem solved in 0 iterations\n",
      "Problem solved in -1 branch-and-bound nodes\n"
     ]
    }
   ],
   "source": [
    "if status == pywraplp.Solver.OPTIMAL:\n",
    "    print(\"Solution:\")\n",
    "    print(\"Objective value =\", solver.Objective().Value())\n",
    "    print(\"x =\", x.solution_value())\n",
    "    print(\"y =\", y.solution_value())\n",
    "else:\n",
    "    print(\"The problem does not have an optimal solution\")\n",
    "\n",
    "\n",
    "print(\"\\nAdvanced usage:\")\n",
    "print(\"Problem solved in %f milliseconds\" % solver.wall_time())\n",
    "print(\"Problem solved in %d iterations\" % solver.iterations())\n",
    "print(\"Problem solved in %d branch-and-bound nodes\" % solver.nodes())"
   ]
  },
  {
   "cell_type": "markdown",
   "id": "forced-return",
   "metadata": {},
   "source": [
    "### Using array to define a model\n",
    "\n",
    "https://developers.google.com/optimization/mip/mip_var_array"
   ]
  },
  {
   "cell_type": "markdown",
   "id": "immune-armstrong",
   "metadata": {},
   "source": [
    "#### 1. Create the data"
   ]
  },
  {
   "cell_type": "code",
   "execution_count": 28,
   "id": "national-cycling",
   "metadata": {},
   "outputs": [],
   "source": [
    "def create_data_model():\n",
    "    \"\"\"Stores the data for the problem.\"\"\"\n",
    "    data = {}\n",
    "    data[\"constraint_coeffs\"] = [\n",
    "        [5, 7, 9, 2, 1],\n",
    "        [18, 4, -9, 10, 12],\n",
    "        [4, 7, 3, 8, 5],\n",
    "        [5, 13, 16, 3, -7],\n",
    "    ]\n",
    "    data[\"bounds\"] = [250, 285, 211, 315]\n",
    "    data[\"obj_coeffs\"] = [7, 8, 2, 9, 6]\n",
    "    data[\"num_vars\"] = 5\n",
    "    data[\"num_constraints\"] = 4\n",
    "    return data"
   ]
  },
  {
   "cell_type": "markdown",
   "id": "wicked-broadcast",
   "metadata": {},
   "source": [
    "#### 2. Instantiate the data"
   ]
  },
  {
   "cell_type": "code",
   "execution_count": 29,
   "id": "minute-vancouver",
   "metadata": {},
   "outputs": [],
   "source": [
    "data = create_data_model()"
   ]
  },
  {
   "cell_type": "markdown",
   "id": "handed-perry",
   "metadata": {},
   "source": [
    "#### 3. Instantiate the solver"
   ]
  },
  {
   "cell_type": "code",
   "execution_count": 30,
   "id": "legitimate-labor",
   "metadata": {},
   "outputs": [],
   "source": [
    "# Create the MIP solver with the SCIP backend.\n",
    "solver = pywraplp.Solver.CreateSolver(\"SCIP\")"
   ]
  },
  {
   "cell_type": "markdown",
   "id": "manual-clear",
   "metadata": {},
   "source": [
    "#### 4. Define the variables"
   ]
  },
  {
   "cell_type": "code",
   "execution_count": 31,
   "id": "flexible-relationship",
   "metadata": {},
   "outputs": [
    {
     "name": "stdout",
     "output_type": "stream",
     "text": [
      "Number of variables = 5\n"
     ]
    }
   ],
   "source": [
    "infinity = solver.infinity()\n",
    "x = {}\n",
    "for j in range(data[\"num_vars\"]):\n",
    "    x[j] = solver.IntVar(0, infinity, f\"x[{j}]\")\n",
    "print(\"Number of variables =\", solver.NumVariables())"
   ]
  },
  {
   "cell_type": "markdown",
   "id": "elegant-diamond",
   "metadata": {},
   "source": [
    "#### 5. Define the constraints"
   ]
  },
  {
   "cell_type": "code",
   "execution_count": 32,
   "id": "functioning-frequency",
   "metadata": {},
   "outputs": [
    {
     "name": "stdout",
     "output_type": "stream",
     "text": [
      "Number of constraints = 4\n"
     ]
    }
   ],
   "source": [
    "for i in range(data[\"num_constraints\"]):\n",
    "    constraint = solver.RowConstraint(0, data[\"bounds\"][i], \"\")\n",
    "    for j in range(data[\"num_vars\"]):\n",
    "        constraint.SetCoefficient(x[j], data[\"constraint_coeffs\"][i][j])\n",
    "\n",
    "print(\"Number of constraints =\", solver.NumConstraints())"
   ]
  },
  {
   "cell_type": "markdown",
   "id": "injured-possibility",
   "metadata": {},
   "source": [
    "#### 6. Define the objective"
   ]
  },
  {
   "cell_type": "code",
   "execution_count": 33,
   "id": "abstract-hierarchy",
   "metadata": {},
   "outputs": [],
   "source": [
    "objective = solver.Objective()\n",
    "\n",
    "for j in range(data[\"num_vars\"]):\n",
    "    objective.SetCoefficient(x[j], data[\"obj_coeffs\"][j])\n",
    "objective.SetMaximization()"
   ]
  },
  {
   "cell_type": "code",
   "execution_count": 34,
   "id": "centered-belle",
   "metadata": {},
   "outputs": [
    {
     "data": {
      "text/plain": [
       "0"
      ]
     },
     "execution_count": 34,
     "metadata": {},
     "output_type": "execute_result"
    }
   ],
   "source": [
    "status = solver.Solve()\n",
    "status"
   ]
  },
  {
   "cell_type": "code",
   "execution_count": 35,
   "id": "hired-pressing",
   "metadata": {},
   "outputs": [
    {
     "name": "stdout",
     "output_type": "stream",
     "text": [
      "Objective value = 259.99999999999966\n",
      "x[0]  =  8.0\n",
      "x[1]  =  21.0\n",
      "x[2]  =  0.0\n",
      "x[3]  =  2.0\n",
      "x[4]  =  3.0\n",
      "\n",
      "Problem solved in 2512.000000 milliseconds\n",
      "Problem solved in 71 iterations\n",
      "Problem solved in 7 branch-and-bound nodes\n"
     ]
    }
   ],
   "source": [
    "if status == pywraplp.Solver.OPTIMAL:\n",
    "    print(\"Objective value =\", solver.Objective().Value())\n",
    "    for j in range(data[\"num_vars\"]):\n",
    "        print(x[j].name(), \" = \", x[j].solution_value())\n",
    "    print()\n",
    "    print(\"Problem solved in %f milliseconds\" % solver.wall_time())\n",
    "    print(\"Problem solved in %d iterations\" % solver.iterations())\n",
    "    print(\"Problem solved in %d branch-and-bound nodes\" % solver.nodes())\n",
    "else:\n",
    "    print(\"The problem does not have an optimal solution.\")"
   ]
  },
  {
   "cell_type": "code",
   "execution_count": null,
   "id": "particular-virgin",
   "metadata": {},
   "outputs": [],
   "source": []
  }
 ],
 "metadata": {
  "kernelspec": {
   "display_name": "Python 3",
   "language": "python",
   "name": "python3"
  },
  "language_info": {
   "codemirror_mode": {
    "name": "ipython",
    "version": 3
   },
   "file_extension": ".py",
   "mimetype": "text/x-python",
   "name": "python",
   "nbconvert_exporter": "python",
   "pygments_lexer": "ipython3",
   "version": "3.9.10"
  }
 },
 "nbformat": 4,
 "nbformat_minor": 5
}
