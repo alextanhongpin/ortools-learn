{
 "cells": [
  {
   "cell_type": "code",
   "execution_count": 1,
   "id": "fatal-smith",
   "metadata": {},
   "outputs": [],
   "source": [
    "import numpy as np\n",
    "\n",
    "from ortools.sat.python import cp_model"
   ]
  },
  {
   "cell_type": "code",
   "execution_count": 2,
   "id": "racial-omaha",
   "metadata": {},
   "outputs": [],
   "source": [
    "# shipping_options_by_item = {\"1\": list(\"ABC\"), \"2\": list(\"AB\"), \"3\": list(\"A\")}\n",
    "shipping_options_by_item = {\"1\": list(\"ABC\"), \"2\": list(\"AB\"), \"3\": list(\"C\")}\n",
    "\n",
    "all_shipping_options = set()\n",
    "for _, options in shipping_options_by_item.items():\n",
    "    all_shipping_options |= set(options)"
   ]
  },
  {
   "cell_type": "code",
   "execution_count": 3,
   "id": "answering-asian",
   "metadata": {},
   "outputs": [
    {
     "name": "stdout",
     "output_type": "stream",
     "text": [
      "[item:1_option:B(0..1), item:2_option:B(0..1)]\n",
      "[item:1_option:A(0..1), item:2_option:A(0..1)]\n",
      "[item:1_option:C(0..1), item:3_option:C(0..1)]\n"
     ]
    }
   ],
   "source": [
    "model = cp_model.CpModel()\n",
    "\n",
    "combinations = {}\n",
    "\n",
    "for item, options in shipping_options_by_item.items():\n",
    "    for option in options:\n",
    "        combinations[item, option] = model.NewBoolVar(f\"item:{item}_option:{option}\")\n",
    "\n",
    "# Each item can only be shipped from one shipping option.\n",
    "for item, options in shipping_options_by_item.items():\n",
    "    model.AddExactlyOne([combinations[item, option] for option in options])\n",
    "\n",
    "items_by_shipping_option = []\n",
    "shipping_options = []\n",
    "for option in all_shipping_options:\n",
    "    result = []\n",
    "    for item in shipping_options_by_item.keys():\n",
    "        if (item, option) in combinations:\n",
    "            result.append(combinations[item, option])\n",
    "    items_by_shipping_option.append(result)\n",
    "\n",
    "    b = model.NewBoolVar(f\"shipping_{option}\")\n",
    "    shipping_options.append(b)\n",
    "\n",
    "    model.Add(sum(result) != 0).OnlyEnforceIf(b)\n",
    "    model.Add(sum(result) == 0).OnlyEnforceIf(b.Not())\n",
    "\n",
    "for item in items_by_shipping_option:\n",
    "    print(item)\n",
    "\n",
    "model.Minimize(sum(shipping_options))"
   ]
  },
  {
   "cell_type": "code",
   "execution_count": 4,
   "id": "swedish-series",
   "metadata": {},
   "outputs": [],
   "source": [
    "class CombinationSolutionPrinter(cp_model.CpSolverSolutionCallback):\n",
    "    def __init__(self, combinations, shipping_options):\n",
    "        cp_model.CpSolverSolutionCallback.__init__(self)\n",
    "        self._solution_count = 0\n",
    "        self._combinations = combinations\n",
    "        self._shipping_options = shipping_options\n",
    "\n",
    "    def on_solution_callback(self):\n",
    "        self._solution_count += 1\n",
    "        print(\"Solution %i\" % self._solution_count)\n",
    "\n",
    "        total = 0\n",
    "        for option in self._shipping_options:\n",
    "            if self.Value(option):\n",
    "                print(option)\n",
    "                total += 1\n",
    "        print(\"Total shipment:\", total)\n",
    "\n",
    "        combinations = self._combinations\n",
    "        for combination in combinations:\n",
    "            if self.Value(combinations[combination]):\n",
    "                print(combination)"
   ]
  },
  {
   "cell_type": "code",
   "execution_count": 5,
   "id": "electric-athens",
   "metadata": {},
   "outputs": [
    {
     "name": "stdout",
     "output_type": "stream",
     "text": [
      "Solution 1\n",
      "shipping_B\n",
      "shipping_C\n",
      "Total shipment: 2\n",
      "('1', 'B')\n",
      "('2', 'B')\n",
      "('3', 'C')\n"
     ]
    },
    {
     "data": {
      "text/plain": [
       "'OPTIMAL'"
      ]
     },
     "execution_count": 5,
     "metadata": {},
     "output_type": "execute_result"
    }
   ],
   "source": [
    "solution_printer = CombinationSolutionPrinter(combinations, shipping_options)\n",
    "\n",
    "solver = cp_model.CpSolver()\n",
    "solver.parameters.enumerate_all_solutions = (\n",
    "    True  # Setting this to true will not return the optimal solution\n",
    ")\n",
    "solver.StatusName(solver.Solve(model, solution_printer))"
   ]
  }
 ],
 "metadata": {
  "kernelspec": {
   "display_name": "Python 3 (ipykernel)",
   "language": "python",
   "name": "python3"
  },
  "language_info": {
   "codemirror_mode": {
    "name": "ipython",
    "version": 3
   },
   "file_extension": ".py",
   "mimetype": "text/x-python",
   "name": "python",
   "nbconvert_exporter": "python",
   "pygments_lexer": "ipython3",
   "version": "3.9.12"
  }
 },
 "nbformat": 4,
 "nbformat_minor": 5
}
