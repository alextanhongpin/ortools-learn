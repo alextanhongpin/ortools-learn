{
 "cells": [
  {
   "cell_type": "markdown",
   "id": "904791d2-8496-4d33-850c-428d2d2d1966",
   "metadata": {},
   "source": [
    "# Question 26\n",
    "Nicole Kidman, Jennifer Lopez, Catherine Zeta Jones, and Cameron Diaz are marooned on a desert island with Brad Pitt, Antonio Banderas, Robin Williams, and Tom Cruise. The “compatibility measures” in the table given below indicate how much happiness each couple would experience if they spent all their time together. Determine the partner for each person.  \n",
    "\n",
    "| | NK | JL | CZJ | CD | \n",
    "| - | - | - | - | - |\n",
    "| BP | 7 | 5 | 8 | 2|\n",
    "| AB|  7|  8|  9| 4|  \n",
    "| RW|  3|  5|  7|  9|\n",
    "| TC|  5|  7|  6|  9|  "
   ]
  },
  {
   "cell_type": "code",
   "execution_count": 11,
   "id": "17403593-a7bc-4942-9e56-22d43d97a004",
   "metadata": {},
   "outputs": [],
   "source": [
    "from ortools.sat.python import cp_model\n",
    "\n",
    "model = cp_model.CpModel()"
   ]
  },
  {
   "cell_type": "code",
   "execution_count": 14,
   "id": "39b5b30d-683a-41d5-99d2-33f6e271a74d",
   "metadata": {},
   "outputs": [],
   "source": [
    "happiness = [\n",
    "    [7, 5, 8, 2],\n",
    "    [7, 8, 9, 4],\n",
    "    [3, 5, 7, 9],\n",
    "    [5, 7, 6, 9]\n",
    "]\n",
    "\n",
    "pairs = len(happiness)\n",
    "# Must have a pair.\n",
    "assert pairs == len(happiness[0])"
   ]
  },
  {
   "cell_type": "code",
   "execution_count": 21,
   "id": "1585a0b3-665d-4118-9c43-edfc2bb8106a",
   "metadata": {},
   "outputs": [
    {
     "data": {
      "text/plain": [
       "'OPTIMAL'"
      ]
     },
     "execution_count": 21,
     "metadata": {},
     "output_type": "execute_result"
    }
   ],
   "source": [
    "couples = {}\n",
    "for i in range(pairs):\n",
    "    for j in range(pairs):\n",
    "        couples[f'm{i}_f{j}'] = model.NewIntVar(0, 1, f'm{i}_f{j}')\n",
    "\n",
    "    # Each male can only be paired with another female.\n",
    "    model.AddExactlyOne(couples[f'm{i}_f{j}'] for j in range(pairs))\n",
    "\n",
    "# Each female can only be paired with another male.\n",
    "for i in range(pairs):\n",
    "    model.AddExactlyOne(couples[f'm{j}_f{i}'] for j in range(pairs))\n",
    "\n",
    "happiness_levels = []\n",
    "for i in range(pairs):\n",
    "    for j in range(pairs):\n",
    "        happiness_levels.append(couples[f'm{i}_f{j}'] * happiness[i][j])\n",
    "model.Maximize(sum(happiness_levels))\n",
    "\n",
    "solver = cp_model.CpSolver()\n",
    "status = solver.Solve(model)\n",
    "solver.StatusName(status)"
   ]
  },
  {
   "cell_type": "code",
   "execution_count": 22,
   "id": "83c68348-1b2e-4361-969e-8a9f4c8b6154",
   "metadata": {},
   "outputs": [
    {
     "data": {
      "text/plain": [
       "32.0"
      ]
     },
     "execution_count": 22,
     "metadata": {},
     "output_type": "execute_result"
    }
   ],
   "source": [
    "solver.ObjectiveValue()"
   ]
  },
  {
   "cell_type": "code",
   "execution_count": 24,
   "id": "31ec31b1-9db0-49b0-9b42-98f297017550",
   "metadata": {},
   "outputs": [
    {
     "name": "stdout",
     "output_type": "stream",
     "text": [
      "0 0\n",
      "1 2\n",
      "2 3\n",
      "3 1\n"
     ]
    }
   ],
   "source": [
    "for i in range(pairs):\n",
    "    for j in range(pairs):\n",
    "        if solver.Value(couples[f'm{i}_f{j}']):\n",
    "            print(i, j)"
   ]
  }
 ],
 "metadata": {
  "kernelspec": {
   "display_name": "Python 3 (ipykernel)",
   "language": "python",
   "name": "python3"
  },
  "language_info": {
   "codemirror_mode": {
    "name": "ipython",
    "version": 3
   },
   "file_extension": ".py",
   "mimetype": "text/x-python",
   "name": "python",
   "nbconvert_exporter": "python",
   "pygments_lexer": "ipython3",
   "version": "3.11.6"
  },
  "widgets": {
   "application/vnd.jupyter.widget-state+json": {
    "state": {},
    "version_major": 2,
    "version_minor": 0
   }
  }
 },
 "nbformat": 4,
 "nbformat_minor": 5
}
