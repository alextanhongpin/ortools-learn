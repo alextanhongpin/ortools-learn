{
 "cells": [
  {
   "cell_type": "markdown",
   "id": "tracked-lightweight",
   "metadata": {},
   "source": [
    "# Employee Scheduling\n",
    "\n",
    "In the next example, a hospital supervisor needs to create a schedule for four nurses over a three-day period, subject to the following conditions:\n",
    "\n",
    "- Each day is divided into three 8-hour shifts.\n",
    "- Every day, each shift is assigned to a single nurse, and no nurse works more than one shift.\n",
    "- Each nurse is assigned to at least two shifts during the three-day period.\n",
    "\n",
    "https://developers.google.com/optimization/scheduling/employee_scheduling"
   ]
  },
  {
   "cell_type": "code",
   "execution_count": 247,
   "id": "amino-ranch",
   "metadata": {},
   "outputs": [],
   "source": [
    "# Install from master https://github.com/google/or-tools/issues/3094\n",
    "# !pip install git+https://github.com/google/or-tools.git\n",
    "from ortools.sat.python import cp_model"
   ]
  },
  {
   "cell_type": "code",
   "execution_count": 254,
   "id": "serious-benjamin",
   "metadata": {},
   "outputs": [],
   "source": [
    "num_shifts = 3\n",
    "num_days = 3\n",
    "num_nurses = 4\n",
    "\n",
    "days = range(num_days)\n",
    "nurses = range(num_nurses)\n",
    "shifts = range(num_shifts)"
   ]
  },
  {
   "cell_type": "code",
   "execution_count": 292,
   "id": "banned-editor",
   "metadata": {},
   "outputs": [],
   "source": [
    "model = cp_model.CpModel()\n",
    "\n",
    "schedules = {}\n",
    "\n",
    "for day in days:\n",
    "    for shift in shifts:\n",
    "        for nurse in nurses:\n",
    "            schedules[(day, shift, nurse)] = model.NewBoolVar(\n",
    "                f\"day:{day}_shift:{shift}_nurse:{nurse}\"\n",
    "            )"
   ]
  },
  {
   "cell_type": "code",
   "execution_count": 293,
   "id": "specific-ireland",
   "metadata": {},
   "outputs": [],
   "source": [
    "for day in days:\n",
    "    # Each shift is assigned to a single nurse.\n",
    "    for shift in shifts:\n",
    "        model.Add(sum([schedules[(day, shift, nurse)] for nurse in nurses]) == 1)\n",
    "\n",
    "    # No nurse works more than one shift.\n",
    "    for nurse in nurses:\n",
    "        model.Add(sum([schedules[(day, shift, nurse)] for shift in shifts]) <= 1)"
   ]
  },
  {
   "cell_type": "code",
   "execution_count": 294,
   "id": "configured-clock",
   "metadata": {},
   "outputs": [
    {
     "name": "stdout",
     "output_type": "stream",
     "text": [
      "2 3\n"
     ]
    }
   ],
   "source": [
    "min_shifts_per_nurse = (num_shifts * num_days) // num_nurses\n",
    "if num_shifts * num_days % num_nurses == 0:\n",
    "    max_shifts_per_nurse = min_shifts_per_nurse\n",
    "else:\n",
    "    max_shifts_per_nurse = min_shifts_per_nurse + 1\n",
    "print(min_shifts_per_nurse, max_shifts_per_nurse)\n",
    "\n",
    "for nurse in nurses:\n",
    "    worked_shifts = []\n",
    "\n",
    "    for day in days:\n",
    "        worked_shifts.extend(schedules[(day, shift, nurse)] for shift in shifts)\n",
    "\n",
    "    # Each nurse is assigned to at least two shifts during the three-day period.\n",
    "    model.Add(sum(worked_shifts) >= min_shifts_per_nurse)\n",
    "    model.Add(sum(worked_shifts) <= max_shifts_per_nurse)"
   ]
  },
  {
   "cell_type": "code",
   "execution_count": 295,
   "id": "usual-kansas",
   "metadata": {},
   "outputs": [
    {
     "data": {
      "text/plain": [
       "(4, 'FEASIBLE=2', 'INFEASIBLE=3', 'OPTIMAL=4')"
      ]
     },
     "execution_count": 295,
     "metadata": {},
     "output_type": "execute_result"
    }
   ],
   "source": [
    "solver = cp_model.CpSolver()\n",
    "solver.parameters.linearization_level = 0\n",
    "solver.Solve(\n",
    "    model\n",
    "), f\"FEASIBLE={cp_model.FEASIBLE}\", f\"INFEASIBLE={cp_model.INFEASIBLE}\", f\"OPTIMAL={cp_model.OPTIMAL}\""
   ]
  },
  {
   "cell_type": "code",
   "execution_count": 296,
   "id": "atlantic-toilet",
   "metadata": {},
   "outputs": [
    {
     "name": "stdout",
     "output_type": "stream",
     "text": [
      "Day 1\n",
      "Nurse 3 working shift 0\n",
      "Nurse 2 working shift 1\n",
      "Nurse 1 working shift 2\n",
      "\n",
      "Day 2\n",
      "Nurse 0 working shift 0\n",
      "Nurse 3 working shift 1\n",
      "Nurse 2 working shift 2\n",
      "\n",
      "Day 3\n",
      "Nurse 0 working shift 0\n",
      "Nurse 1 working shift 1\n",
      "Nurse 3 working shift 2\n",
      "\n"
     ]
    }
   ],
   "source": [
    "for day in days:\n",
    "    print(\"Day\", day + 1)\n",
    "    for shift in shifts:\n",
    "        is_working = False\n",
    "        for nurse in nurses:\n",
    "            if solver.Value(schedules[(day, shift, nurse)]):\n",
    "                is_working = True\n",
    "                print(f\"Nurse {nurse} working shift {shift}\")\n",
    "        if not is_working:\n",
    "            print(f\"Nurse {nurse} is not working shift {shift}\")\n",
    "    print(\"\")"
   ]
  }
 ],
 "metadata": {
  "kernelspec": {
   "display_name": "Python 3 (ipykernel)",
   "language": "python",
   "name": "python3"
  },
  "language_info": {
   "codemirror_mode": {
    "name": "ipython",
    "version": 3
   },
   "file_extension": ".py",
   "mimetype": "text/x-python",
   "name": "python",
   "nbconvert_exporter": "python",
   "pygments_lexer": "ipython3",
   "version": "3.9.12"
  }
 },
 "nbformat": 4,
 "nbformat_minor": 5
}
