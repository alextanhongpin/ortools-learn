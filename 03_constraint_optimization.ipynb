{
 "cells": [
  {
   "cell_type": "markdown",
   "id": "supposed-stamp",
   "metadata": {},
   "source": [
    "# Constraint Optimization\n",
    "\n",
    "\n",
    "https://developers.google.com/optimization/cp/cp_example"
   ]
  },
  {
   "cell_type": "code",
   "execution_count": 1,
   "id": "armed-fiction",
   "metadata": {},
   "outputs": [],
   "source": [
    "from ortools.sat.python import cp_model"
   ]
  },
  {
   "cell_type": "code",
   "execution_count": 2,
   "id": "nervous-wales",
   "metadata": {},
   "outputs": [
    {
     "data": {
      "text/plain": [
       "4"
      ]
     },
     "execution_count": 2,
     "metadata": {},
     "output_type": "execute_result"
    }
   ],
   "source": [
    "# 1. Declare the model.\n",
    "model = cp_model.CpModel()\n",
    "\n",
    "# 2. Create the variables\n",
    "num_vals = 3\n",
    "x = model.NewIntVar(0, num_vals - 1, \"x\")\n",
    "y = model.NewIntVar(0, num_vals - 1, \"y\")\n",
    "z = model.NewIntVar(0, num_vals - 1, \"z\")\n",
    "\n",
    "# 3. Create the constraint.\n",
    "model.Add(x != y)\n",
    "\n",
    "# 4. Call the solver.\n",
    "solver = cp_model.CpSolver()\n",
    "status = solver.Solve(model)\n",
    "status"
   ]
  },
  {
   "cell_type": "code",
   "execution_count": 7,
   "id": "radical-violation",
   "metadata": {},
   "outputs": [
    {
     "name": "stdout",
     "output_type": "stream",
     "text": [
      "An optimal solution was found.\n"
     ]
    }
   ],
   "source": [
    "if status == cp_model.OPTIMAL:\n",
    "    print(\"An optimal solution was found.\")\n",
    "elif status == cp_model.FEASIBLE:\n",
    "    print(\"A feasible solution ws found, but we don't know if it's optimal\")\n",
    "elif status == cp_model.INFEASIBLE:\n",
    "    print(\"The problem was proven infeasible.\")\n",
    "elif status == cp_model.MODEL_INVALID:\n",
    "    print(\"The given model didn't pass the validation step.\")\n",
    "elif status == cp_model.UNKNOWN:\n",
    "    print(\"The status of the model is unknown because no solution was found\")"
   ]
  },
  {
   "cell_type": "code",
   "execution_count": 8,
   "id": "indirect-detective",
   "metadata": {},
   "outputs": [
    {
     "name": "stdout",
     "output_type": "stream",
     "text": [
      "x = 1\n",
      "y = 0\n",
      "z = 0\n"
     ]
    }
   ],
   "source": [
    "if status == cp_model.OPTIMAL or status == cp_model.FEASIBLE:\n",
    "    print(\"x =\", solver.Value(x))\n",
    "    print(\"y =\", solver.Value(y))\n",
    "    print(\"z =\", solver.Value(z))\n",
    "else:\n",
    "    print(\"No solution found.\")"
   ]
  },
  {
   "cell_type": "markdown",
   "id": "laughing-consultation",
   "metadata": {},
   "source": [
    "#### Finding all solutions\n",
    "\n",
    "We modify the program above to find all feasible solutions."
   ]
  },
  {
   "cell_type": "code",
   "execution_count": 9,
   "id": "hourly-orchestra",
   "metadata": {},
   "outputs": [],
   "source": [
    "class VarArraySolutionPrinter(cp_model.CpSolverSolutionCallback):\n",
    "    \"\"\"Print intermediate solutions.\"\"\"\n",
    "\n",
    "    def __init__(self, variables):\n",
    "        cp_model.CpSolverSolutionCallback.__init__(self)\n",
    "        self.__variables = variables\n",
    "        self.__solution_count = 0\n",
    "\n",
    "    def on_solution_callback(self):\n",
    "        self.__solution_count += 1\n",
    "        for v in self.__variables:\n",
    "            print(\"{}={}\".format(v, self.Value(v)), end=\" \")\n",
    "        print()\n",
    "\n",
    "    def solution_count(self):\n",
    "        return self.__solution_count"
   ]
  },
  {
   "cell_type": "code",
   "execution_count": 11,
   "id": "exclusive-stock",
   "metadata": {},
   "outputs": [
    {
     "name": "stdout",
     "output_type": "stream",
     "text": [
      "x=1 y=0 z=0 \n",
      "x=2 y=0 z=0 \n",
      "x=2 y=0 z=1 \n",
      "x=1 y=0 z=1 \n",
      "x=2 y=1 z=1 \n",
      "x=2 y=1 z=0 \n",
      "x=2 y=1 z=2 \n",
      "x=2 y=0 z=2 \n",
      "x=1 y=0 z=2 \n",
      "x=0 y=1 z=2 \n",
      "x=0 y=1 z=1 \n",
      "x=0 y=2 z=1 \n",
      "x=0 y=2 z=2 \n",
      "x=1 y=2 z=2 \n",
      "x=1 y=2 z=1 \n",
      "x=1 y=2 z=0 \n",
      "x=0 y=2 z=0 \n",
      "x=0 y=1 z=0 \n"
     ]
    }
   ],
   "source": [
    "solver = cp_model.CpSolver()\n",
    "solution_printer = VarArraySolutionPrinter([x, y, z])\n",
    "\n",
    "# Enumerate all solutions.\n",
    "solver.parameters.enumerate_all_solutions = True\n",
    "\n",
    "# Solve.\n",
    "status = solver.Solve(model, solution_printer)"
   ]
  },
  {
   "cell_type": "code",
   "execution_count": 12,
   "id": "frozen-validity",
   "metadata": {},
   "outputs": [
    {
     "name": "stdout",
     "output_type": "stream",
     "text": [
      "Status = OPTIMAL\n",
      "Number of solutions found: 18\n"
     ]
    }
   ],
   "source": [
    "print(\"Status = %s\" % solver.StatusName(status))\n",
    "print(\"Number of solutions found: %i\" % solution_printer.solution_count())"
   ]
  },
  {
   "cell_type": "markdown",
   "id": "twenty-black",
   "metadata": {},
   "source": [
    "### Solving a CP Problem"
   ]
  },
  {
   "cell_type": "code",
   "execution_count": 13,
   "id": "identified-reputation",
   "metadata": {},
   "outputs": [
    {
     "data": {
      "text/plain": [
       "4"
      ]
     },
     "execution_count": 13,
     "metadata": {},
     "output_type": "execute_result"
    }
   ],
   "source": [
    "from ortools.sat.python import cp_model\n",
    "\n",
    "# Declare the model.\n",
    "model = cp_model.CpModel()\n",
    "\n",
    "# Create the variables.\n",
    "var_upper_bound = max(50, 45, 37)\n",
    "\n",
    "x = model.NewIntVar(0, var_upper_bound, \"x\")\n",
    "y = model.NewIntVar(0, var_upper_bound, \"y\")\n",
    "z = model.NewIntVar(0, var_upper_bound, \"z\")\n",
    "\n",
    "# Define the constraints.\n",
    "model.Add(2 * x + 7 * y + 3 * z <= 50)\n",
    "model.Add(3 * x - 5 * y + 7 * z <= 45)\n",
    "model.Add(5 * x + 2 * y - 6 * z <= 37)\n",
    "\n",
    "# Define the objective function.\n",
    "\n",
    "model.Maximize(2 * x + 2 * y + 3 * z)\n",
    "\n",
    "# Call the solver.\n",
    "solver = cp_model.CpSolver()\n",
    "status = solver.Solve(model)\n",
    "status"
   ]
  },
  {
   "cell_type": "code",
   "execution_count": 14,
   "id": "accompanied-support",
   "metadata": {},
   "outputs": [
    {
     "name": "stdout",
     "output_type": "stream",
     "text": [
      "Maximum of objective function: 35.0\n",
      "\n",
      "x = 7\n",
      "y = 3\n",
      "z = 5\n"
     ]
    }
   ],
   "source": [
    "if status == cp_model.OPTIMAL or status == cp_model.FEASIBLE:\n",
    "    print(f\"Maximum of objective function: {solver.ObjectiveValue()}\\n\")\n",
    "    print(f\"x = {solver.Value(x)}\")\n",
    "    print(f\"y = {solver.Value(y)}\")\n",
    "    print(f\"z = {solver.Value(z)}\")\n",
    "else:\n",
    "    print(\"No solution found.\")"
   ]
  },
  {
   "cell_type": "code",
   "execution_count": null,
   "id": "empty-tissue",
   "metadata": {},
   "outputs": [],
   "source": []
  }
 ],
 "metadata": {
  "kernelspec": {
   "display_name": "Python 3",
   "language": "python",
   "name": "python3"
  },
  "language_info": {
   "codemirror_mode": {
    "name": "ipython",
    "version": 3
   },
   "file_extension": ".py",
   "mimetype": "text/x-python",
   "name": "python",
   "nbconvert_exporter": "python",
   "pygments_lexer": "ipython3",
   "version": "3.9.10"
  }
 },
 "nbformat": 4,
 "nbformat_minor": 5
}
