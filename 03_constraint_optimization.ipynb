{
 "cells": [
  {
   "cell_type": "markdown",
   "id": "proof-butterfly",
   "metadata": {},
   "source": [
    "# Constraint Optimization\n",
    "\n",
    "\n",
    "https://developers.google.com/optimization/cp/cp_example"
   ]
  },
  {
   "cell_type": "code",
   "execution_count": 1,
   "id": "manufactured-working",
   "metadata": {},
   "outputs": [],
   "source": [
    "from ortools.sat.python import cp_model"
   ]
  },
  {
   "cell_type": "code",
   "execution_count": 2,
   "id": "bigger-princess",
   "metadata": {},
   "outputs": [
    {
     "data": {
      "text/plain": [
       "4"
      ]
     },
     "execution_count": 2,
     "metadata": {},
     "output_type": "execute_result"
    }
   ],
   "source": [
    "# 1. Declare the model.\n",
    "model = cp_model.CpModel()\n",
    "\n",
    "# 2. Create the variables\n",
    "num_vals = 3\n",
    "x = model.NewIntVar(0, num_vals - 1, \"x\")\n",
    "y = model.NewIntVar(0, num_vals - 1, \"y\")\n",
    "z = model.NewIntVar(0, num_vals - 1, \"z\")\n",
    "\n",
    "# 3. Create the constraint.\n",
    "model.Add(x != y)\n",
    "\n",
    "# 4. Call the solver.\n",
    "solver = cp_model.CpSolver()\n",
    "status = solver.Solve(model)\n",
    "status"
   ]
  },
  {
   "cell_type": "code",
   "execution_count": 3,
   "id": "sticky-notice",
   "metadata": {},
   "outputs": [
    {
     "name": "stdout",
     "output_type": "stream",
     "text": [
      "An optimal solution was found.\n"
     ]
    }
   ],
   "source": [
    "if status == cp_model.OPTIMAL:\n",
    "    print(\"An optimal solution was found.\")\n",
    "elif status == cp_model.FEASIBLE:\n",
    "    print(\"A feasible solution ws found, but we don't know if it's optimal\")\n",
    "elif status == cp_model.INFEASIBLE:\n",
    "    print(\"The problem was proven infeasible.\")\n",
    "elif status == cp_model.MODEL_INVALID:\n",
    "    print(\"The given model didn't pass the validation step.\")\n",
    "elif status == cp_model.UNKNOWN:\n",
    "    print(\"The status of the model is unknown because no solution was found\")"
   ]
  },
  {
   "cell_type": "code",
   "execution_count": 4,
   "id": "several-speech",
   "metadata": {},
   "outputs": [
    {
     "name": "stdout",
     "output_type": "stream",
     "text": [
      "x = 1\n",
      "y = 0\n",
      "z = 0\n"
     ]
    }
   ],
   "source": [
    "if status == cp_model.OPTIMAL or status == cp_model.FEASIBLE:\n",
    "    print(\"x =\", solver.Value(x))\n",
    "    print(\"y =\", solver.Value(y))\n",
    "    print(\"z =\", solver.Value(z))\n",
    "else:\n",
    "    print(\"No solution found.\")"
   ]
  },
  {
   "cell_type": "markdown",
   "id": "metric-bailey",
   "metadata": {},
   "source": [
    "#### Finding all solutions\n",
    "\n",
    "We modify the program above to find all feasible solutions."
   ]
  },
  {
   "cell_type": "code",
   "execution_count": 5,
   "id": "single-paintball",
   "metadata": {},
   "outputs": [],
   "source": [
    "class VarArraySolutionPrinter(cp_model.CpSolverSolutionCallback):\n",
    "    \"\"\"Print intermediate solutions.\"\"\"\n",
    "\n",
    "    def __init__(self, variables):\n",
    "        cp_model.CpSolverSolutionCallback.__init__(self)\n",
    "        self.__variables = variables\n",
    "        self.__solution_count = 0\n",
    "\n",
    "    def on_solution_callback(self):\n",
    "        self.__solution_count += 1\n",
    "        for v in self.__variables:\n",
    "            print(\"{}={}\".format(v, self.Value(v)), end=\" \")\n",
    "        print()\n",
    "\n",
    "    def solution_count(self):\n",
    "        return self.__solution_count"
   ]
  },
  {
   "cell_type": "code",
   "execution_count": 6,
   "id": "embedded-insured",
   "metadata": {},
   "outputs": [
    {
     "name": "stdout",
     "output_type": "stream",
     "text": [
      "x=1 y=0 z=0 \n",
      "x=2 y=0 z=0 \n",
      "x=2 y=0 z=1 \n",
      "x=1 y=0 z=1 \n",
      "x=2 y=1 z=1 \n",
      "x=2 y=1 z=0 \n",
      "x=2 y=1 z=2 \n",
      "x=2 y=0 z=2 \n",
      "x=1 y=0 z=2 \n",
      "x=0 y=1 z=2 \n",
      "x=0 y=1 z=1 \n",
      "x=0 y=2 z=1 \n",
      "x=0 y=2 z=2 \n",
      "x=1 y=2 z=2 \n",
      "x=1 y=2 z=1 \n",
      "x=1 y=2 z=0 \n",
      "x=0 y=2 z=0 \n",
      "x=0 y=1 z=0 \n"
     ]
    }
   ],
   "source": [
    "solver = cp_model.CpSolver()\n",
    "solution_printer = VarArraySolutionPrinter([x, y, z])\n",
    "\n",
    "# Enumerate all solutions.\n",
    "solver.parameters.enumerate_all_solutions = True\n",
    "\n",
    "# Solve.\n",
    "status = solver.Solve(model, solution_printer)"
   ]
  },
  {
   "cell_type": "code",
   "execution_count": 7,
   "id": "placed-angle",
   "metadata": {},
   "outputs": [
    {
     "name": "stdout",
     "output_type": "stream",
     "text": [
      "Status = OPTIMAL\n",
      "Number of solutions found: 18\n"
     ]
    }
   ],
   "source": [
    "print(\"Status = %s\" % solver.StatusName(status))\n",
    "print(\"Number of solutions found: %i\" % solution_printer.solution_count())"
   ]
  },
  {
   "cell_type": "markdown",
   "id": "expressed-registration",
   "metadata": {},
   "source": [
    "### Solving a CP Problem"
   ]
  },
  {
   "cell_type": "code",
   "execution_count": 8,
   "id": "binary-transaction",
   "metadata": {},
   "outputs": [
    {
     "data": {
      "text/plain": [
       "4"
      ]
     },
     "execution_count": 8,
     "metadata": {},
     "output_type": "execute_result"
    }
   ],
   "source": [
    "from ortools.sat.python import cp_model\n",
    "\n",
    "# Declare the model.\n",
    "model = cp_model.CpModel()\n",
    "\n",
    "# Create the variables.\n",
    "var_upper_bound = max(50, 45, 37)\n",
    "\n",
    "x = model.NewIntVar(0, var_upper_bound, \"x\")\n",
    "y = model.NewIntVar(0, var_upper_bound, \"y\")\n",
    "z = model.NewIntVar(0, var_upper_bound, \"z\")\n",
    "\n",
    "# Define the constraints.\n",
    "model.Add(2 * x + 7 * y + 3 * z <= 50)\n",
    "model.Add(3 * x - 5 * y + 7 * z <= 45)\n",
    "model.Add(5 * x + 2 * y - 6 * z <= 37)\n",
    "\n",
    "# Define the objective function.\n",
    "\n",
    "model.Maximize(2 * x + 2 * y + 3 * z)\n",
    "\n",
    "# Call the solver.\n",
    "solver = cp_model.CpSolver()\n",
    "status = solver.Solve(model)\n",
    "status"
   ]
  },
  {
   "cell_type": "code",
   "execution_count": 9,
   "id": "verified-duncan",
   "metadata": {},
   "outputs": [
    {
     "name": "stdout",
     "output_type": "stream",
     "text": [
      "Maximum of objective function: 35.0\n",
      "\n",
      "x = 7\n",
      "y = 3\n",
      "z = 5\n"
     ]
    }
   ],
   "source": [
    "if status == cp_model.OPTIMAL or status == cp_model.FEASIBLE:\n",
    "    print(f\"Maximum of objective function: {solver.ObjectiveValue()}\\n\")\n",
    "    print(f\"x = {solver.Value(x)}\")\n",
    "    print(f\"y = {solver.Value(y)}\")\n",
    "    print(f\"z = {solver.Value(z)}\")\n",
    "else:\n",
    "    print(\"No solution found.\")"
   ]
  },
  {
   "cell_type": "markdown",
   "id": "shaped-logic",
   "metadata": {},
   "source": [
    "## Cryptarithmetic Puzzles\n",
    "\n",
    "https://developers.google.com/optimization/cp/cryptarithmetic"
   ]
  },
  {
   "cell_type": "code",
   "execution_count": 10,
   "id": "specified-humor",
   "metadata": {},
   "outputs": [],
   "source": [
    "from ortools.sat.python import cp_model"
   ]
  },
  {
   "cell_type": "code",
   "execution_count": 11,
   "id": "accessible-freedom",
   "metadata": {},
   "outputs": [],
   "source": [
    "# Declare the model.\n",
    "model = cp_model.CpModel()\n",
    "\n",
    "\n",
    "# Defining the variables.\n",
    "base = 10\n",
    "\n",
    "c = model.NewIntVar(1, base - 1, \"C\")\n",
    "p = model.NewIntVar(0, base - 1, \"P\")\n",
    "i = model.NewIntVar(1, base - 1, \"I\")\n",
    "s = model.NewIntVar(0, base - 1, \"S\")\n",
    "f = model.NewIntVar(1, base - 1, \"F\")\n",
    "u = model.NewIntVar(0, base - 1, \"U\")\n",
    "n = model.NewIntVar(0, base - 1, \"N\")\n",
    "t = model.NewIntVar(1, base - 1, \"T\")\n",
    "r = model.NewIntVar(0, base - 1, \"R\")\n",
    "e = model.NewIntVar(0, base - 1, \"E\")\n",
    "\n",
    "# We need to group variables in a list to use the constraint AllDifferent.\n",
    "letters = [c, p, i, s, f, u, n, t, r, e]\n",
    "\n",
    "# Verify that we have enough digits.\n",
    "assert base >= len(letters)"
   ]
  },
  {
   "cell_type": "code",
   "execution_count": 12,
   "id": "organized-austria",
   "metadata": {},
   "outputs": [
    {
     "data": {
      "text/plain": [
       "<ortools.sat.python.cp_model.Constraint at 0x10e8256a0>"
      ]
     },
     "execution_count": 12,
     "metadata": {},
     "output_type": "execute_result"
    }
   ],
   "source": [
    "# Defining the constraints.\n",
    "model.AddAllDifferent(letters)\n",
    "\n",
    "# CP + IS + FUN = TRUE\n",
    "model.Add(\n",
    "    c * base + p + i * base + s + f * base * base + u * base + n\n",
    "    == t * base * base * base + r * base * base + u * base + e\n",
    ")"
   ]
  },
  {
   "cell_type": "code",
   "execution_count": 13,
   "id": "pointed-cedar",
   "metadata": {},
   "outputs": [],
   "source": [
    "class VarArraySolutionPrinter(cp_model.CpSolverSolutionCallback):\n",
    "    \"\"\"Print intermediate solutions.\"\"\"\n",
    "\n",
    "    def __init__(self, variables):\n",
    "        cp_model.CpSolverSolutionCallback.__init__(self)\n",
    "        self.__variables = variables\n",
    "        self.__solution_count = 0\n",
    "\n",
    "    def on_solution_callback(self):\n",
    "        self.__solution_count += 1\n",
    "        for v in self.__variables:\n",
    "            print(\"%s=%i\" % (v, self.Value(v)), end=\" \")\n",
    "        print()\n",
    "\n",
    "    def solution_count(self):\n",
    "        return self.__solution_count"
   ]
  },
  {
   "cell_type": "code",
   "execution_count": 14,
   "id": "little-centre",
   "metadata": {},
   "outputs": [
    {
     "name": "stdout",
     "output_type": "stream",
     "text": [
      "C=6 P=4 I=3 S=5 F=9 U=2 N=8 T=1 R=0 E=7 \n",
      "C=3 P=4 I=6 S=5 F=9 U=2 N=8 T=1 R=0 E=7 \n",
      "C=3 P=4 I=6 S=8 F=9 U=2 N=5 T=1 R=0 E=7 \n",
      "C=3 P=2 I=6 S=7 F=9 U=8 N=5 T=1 R=0 E=4 \n",
      "C=3 P=2 I=6 S=5 F=9 U=8 N=7 T=1 R=0 E=4 \n",
      "C=2 P=3 I=7 S=6 F=9 U=8 N=5 T=1 R=0 E=4 \n",
      "C=2 P=3 I=7 S=4 F=9 U=6 N=8 T=1 R=0 E=5 \n",
      "C=2 P=3 I=7 S=5 F=9 U=4 N=8 T=1 R=0 E=6 \n",
      "C=2 P=3 I=7 S=8 F=9 U=4 N=5 T=1 R=0 E=6 \n",
      "C=2 P=3 I=7 S=8 F=9 U=6 N=4 T=1 R=0 E=5 \n",
      "C=2 P=3 I=7 S=5 F=9 U=8 N=6 T=1 R=0 E=4 \n",
      "C=7 P=3 I=2 S=5 F=9 U=8 N=6 T=1 R=0 E=4 \n",
      "C=7 P=3 I=2 S=6 F=9 U=8 N=5 T=1 R=0 E=4 \n",
      "C=6 P=2 I=3 S=7 F=9 U=8 N=5 T=1 R=0 E=4 \n",
      "C=6 P=2 I=3 S=5 F=9 U=8 N=7 T=1 R=0 E=4 \n",
      "C=7 P=3 I=2 S=4 F=9 U=6 N=8 T=1 R=0 E=5 \n",
      "C=7 P=3 I=2 S=8 F=9 U=6 N=4 T=1 R=0 E=5 \n",
      "C=7 P=4 I=2 S=8 F=9 U=6 N=3 T=1 R=0 E=5 \n",
      "C=7 P=8 I=2 S=4 F=9 U=6 N=3 T=1 R=0 E=5 \n",
      "C=7 P=8 I=2 S=3 F=9 U=6 N=4 T=1 R=0 E=5 \n",
      "C=7 P=4 I=2 S=3 F=9 U=6 N=8 T=1 R=0 E=5 \n",
      "C=7 P=6 I=2 S=3 F=9 U=8 N=5 T=1 R=0 E=4 \n",
      "C=7 P=5 I=2 S=3 F=9 U=8 N=6 T=1 R=0 E=4 \n",
      "C=7 P=8 I=2 S=3 F=9 U=4 N=5 T=1 R=0 E=6 \n",
      "C=7 P=8 I=2 S=5 F=9 U=4 N=3 T=1 R=0 E=6 \n",
      "C=7 P=3 I=2 S=5 F=9 U=4 N=8 T=1 R=0 E=6 \n",
      "C=7 P=5 I=2 S=3 F=9 U=4 N=8 T=1 R=0 E=6 \n",
      "C=7 P=3 I=2 S=8 F=9 U=4 N=5 T=1 R=0 E=6 \n",
      "C=7 P=5 I=2 S=8 F=9 U=4 N=3 T=1 R=0 E=6 \n",
      "C=2 P=5 I=7 S=8 F=9 U=4 N=3 T=1 R=0 E=6 \n",
      "C=4 P=6 I=5 S=8 F=9 U=2 N=3 T=1 R=0 E=7 \n",
      "C=5 P=6 I=4 S=8 F=9 U=2 N=3 T=1 R=0 E=7 \n",
      "C=6 P=5 I=3 S=8 F=9 U=2 N=4 T=1 R=0 E=7 \n",
      "C=6 P=5 I=3 S=4 F=9 U=2 N=8 T=1 R=0 E=7 \n",
      "C=6 P=4 I=3 S=8 F=9 U=2 N=5 T=1 R=0 E=7 \n",
      "C=5 P=6 I=4 S=3 F=9 U=2 N=8 T=1 R=0 E=7 \n",
      "C=4 P=6 I=5 S=3 F=9 U=2 N=8 T=1 R=0 E=7 \n",
      "C=4 P=3 I=5 S=6 F=9 U=2 N=8 T=1 R=0 E=7 \n",
      "C=4 P=3 I=5 S=8 F=9 U=2 N=6 T=1 R=0 E=7 \n",
      "C=5 P=3 I=4 S=8 F=9 U=2 N=6 T=1 R=0 E=7 \n",
      "C=5 P=3 I=4 S=6 F=9 U=2 N=8 T=1 R=0 E=7 \n",
      "C=3 P=5 I=6 S=4 F=9 U=2 N=8 T=1 R=0 E=7 \n",
      "C=3 P=5 I=6 S=8 F=9 U=2 N=4 T=1 R=0 E=7 \n",
      "C=3 P=8 I=6 S=5 F=9 U=2 N=4 T=1 R=0 E=7 \n",
      "C=3 P=8 I=6 S=4 F=9 U=2 N=5 T=1 R=0 E=7 \n",
      "C=4 P=8 I=5 S=3 F=9 U=2 N=6 T=1 R=0 E=7 \n",
      "C=5 P=8 I=4 S=3 F=9 U=2 N=6 T=1 R=0 E=7 \n",
      "C=6 P=8 I=3 S=4 F=9 U=2 N=5 T=1 R=0 E=7 \n",
      "C=6 P=8 I=3 S=5 F=9 U=2 N=4 T=1 R=0 E=7 \n",
      "C=5 P=8 I=4 S=6 F=9 U=2 N=3 T=1 R=0 E=7 \n",
      "C=4 P=8 I=5 S=6 F=9 U=2 N=3 T=1 R=0 E=7 \n",
      "C=3 P=7 I=6 S=2 F=9 U=8 N=5 T=1 R=0 E=4 \n",
      "C=3 P=5 I=6 S=2 F=9 U=8 N=7 T=1 R=0 E=4 \n",
      "C=3 P=7 I=6 S=5 F=9 U=8 N=2 T=1 R=0 E=4 \n",
      "C=3 P=5 I=6 S=7 F=9 U=8 N=2 T=1 R=0 E=4 \n",
      "C=2 P=5 I=7 S=6 F=9 U=8 N=3 T=1 R=0 E=4 \n",
      "C=2 P=6 I=7 S=5 F=9 U=8 N=3 T=1 R=0 E=4 \n",
      "C=2 P=6 I=7 S=3 F=9 U=8 N=5 T=1 R=0 E=4 \n",
      "C=2 P=5 I=7 S=3 F=9 U=8 N=6 T=1 R=0 E=4 \n",
      "C=2 P=8 I=7 S=3 F=9 U=4 N=5 T=1 R=0 E=6 \n",
      "C=2 P=5 I=7 S=3 F=9 U=4 N=8 T=1 R=0 E=6 \n",
      "C=2 P=8 I=7 S=3 F=9 U=6 N=4 T=1 R=0 E=5 \n",
      "C=2 P=4 I=7 S=3 F=9 U=6 N=8 T=1 R=0 E=5 \n",
      "C=2 P=4 I=7 S=8 F=9 U=6 N=3 T=1 R=0 E=5 \n",
      "C=2 P=8 I=7 S=4 F=9 U=6 N=3 T=1 R=0 E=5 \n",
      "C=2 P=8 I=7 S=5 F=9 U=4 N=3 T=1 R=0 E=6 \n",
      "C=7 P=6 I=2 S=5 F=9 U=8 N=3 T=1 R=0 E=4 \n",
      "C=7 P=5 I=2 S=6 F=9 U=8 N=3 T=1 R=0 E=4 \n",
      "C=6 P=5 I=3 S=7 F=9 U=8 N=2 T=1 R=0 E=4 \n",
      "C=6 P=7 I=3 S=5 F=9 U=8 N=2 T=1 R=0 E=4 \n",
      "C=6 P=7 I=3 S=2 F=9 U=8 N=5 T=1 R=0 E=4 \n",
      "C=6 P=5 I=3 S=2 F=9 U=8 N=7 T=1 R=0 E=4 \n",
      "\n",
      "Statistics\n",
      "  status   : OPTIMAL\n",
      "  conflicts: 179\n",
      "  branches : 828\n",
      "  wall time: 0.111976327 s\n",
      "  sol found: 72\n"
     ]
    }
   ],
   "source": [
    "# Creates a solver and solves the model.\n",
    "solver = cp_model.CpSolver()\n",
    "solution_printer = VarArraySolutionPrinter(letters)\n",
    "\n",
    "# Enumerate all solutions.\n",
    "solver.parameters.enumerate_all_solutions = True\n",
    "\n",
    "# Solve.\n",
    "status = solver.Solve(model, solution_printer)\n",
    "\n",
    "# Statistics.\n",
    "print(\"\\nStatistics\")\n",
    "print(f\"  status   : {solver.StatusName(status)}\")\n",
    "print(f\"  conflicts: {solver.NumConflicts()}\")\n",
    "print(f\"  branches : {solver.NumBranches()}\")\n",
    "print(f\"  wall time: {solver.WallTime()} s\")\n",
    "print(f\"  sol found: {solution_printer.solution_count()}\")"
   ]
  },
  {
   "cell_type": "code",
   "execution_count": null,
   "id": "surprised-sacrifice",
   "metadata": {},
   "outputs": [],
   "source": []
  },
  {
   "cell_type": "code",
   "execution_count": null,
   "id": "found-citizenship",
   "metadata": {},
   "outputs": [],
   "source": []
  }
 ],
 "metadata": {
  "kernelspec": {
   "display_name": "Python 3",
   "language": "python",
   "name": "python3"
  },
  "language_info": {
   "codemirror_mode": {
    "name": "ipython",
    "version": 3
   },
   "file_extension": ".py",
   "mimetype": "text/x-python",
   "name": "python",
   "nbconvert_exporter": "python",
   "pygments_lexer": "ipython3",
   "version": "3.9.10"
  }
 },
 "nbformat": 4,
 "nbformat_minor": 5
}
