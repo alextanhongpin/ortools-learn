{
 "cells": [
  {
   "cell_type": "markdown",
   "metadata": {},
   "source": [
    "# Question 10\n",
    "\n",
    "A freight plane has three large compartments to carry cargo. Weight and volume limitations of these compartments are: \n",
    "\n",
    "| Compartment | Weight (Tons) | Volume (m3) |\n",
    "| - | - | - |\n",
    "| Front | 10 | 6800 | \n",
    "| Center | 16 | 8700 |\n",
    "| Rear | 8 | 5300 |\n",
    "\n",
    " There are four cargos waiting to be loaded in this plane. Properties of these cargos are shown on the table below: \n",
    " \n",
    "| Cargo | Cargo Total Weight (Tons) | Total Volume (m3)  | Profit (TL/ton) |\n",
    "| -- | -- | -- | -- |\n",
    "| K1 | 18 | 8640 | 310 |\n",
    "| K2 | 15 | 9750 | 380 |\n",
    "| K3 | 23 | 13340 | 350 |\n",
    "| K4 | 12 | 4680 | 285 |\n",
    "\n",
    "Furthermore, the weight of the cargo in the respective compartments must be the same proportion of that compartment's weight capacity to maintain the balance of the plane. Any proportion of these cargoes can be accepted. Formulate a linear programming model to maximize the profit by choosing how many tons of which cargo to load on the plane under these circumstances.  "
   ]
  },
  {
   "cell_type": "code",
   "execution_count": 2,
   "metadata": {},
   "outputs": [],
   "source": [
    "from ortools.linear_solver import pywraplp\n",
    "\n",
    "solver = pywraplp.Solver.CreateSolver(\"SCIP\")\n",
    "if solver is None:\n",
    "    raise(\"SCIP solver unavailable.\")"
   ]
  },
  {
   "cell_type": "code",
   "execution_count": 28,
   "metadata": {},
   "outputs": [],
   "source": [
    "k1 = (18, 8640, 310)\n",
    "k2 = (15, 9750, 380)\n",
    "k3 = (23, 13340, 350)\n",
    "k4 = (12, 4680, 285)\n",
    "\n",
    "cargos = [k1, k2, k3, k4]\n",
    "cargo_weights = [c[0] for c in cargos]\n",
    "cargo_volumes = [c[1]/c[0] for c in cargos]\n",
    "profits = [c[2] for c in cargos]\n",
    "\n",
    "compartment_weights = [10, 16, 8]\n",
    "compartment_volumes = [6800, 8700, 5300]\n",
    "\n",
    "objective = solver.Objective()\n",
    "\n",
    "result = {}\n",
    "for i in range(len(compartment_weights)):\n",
    "  for j in range(len(cargos)):\n",
    "    n = solver.IntVar(0, cargo_weights[j], f\"tons_{i}_{j}\")\n",
    "    result[f\"compartment_{i}_cargo_{j}\"] = n\n",
    "    objective.SetCoefficient(n, profits[j])\n",
    "  solver.Add(solver.Sum([result[f\"compartment_{i}_cargo_{j}\"] for j in range(len(cargos))]) <= compartment_weights[i])\n",
    "  solver.Add(solver.Sum([result[f\"compartment_{i}_cargo_{j}\"] * cargo_volumes[j] for j in range(len(cargos))]) <= compartment_volumes[i])\n",
    "\n",
    "objective.SetMaximization()"
   ]
  },
  {
   "cell_type": "code",
   "execution_count": 29,
   "metadata": {},
   "outputs": [
    {
     "name": "stdout",
     "output_type": "stream",
     "text": [
      "Solving with SCIP 8.0.4 [LP solver: Glop 9.8]\n"
     ]
    },
    {
     "data": {
      "text/plain": [
       "True"
      ]
     },
     "execution_count": 29,
     "metadata": {},
     "output_type": "execute_result"
    }
   ],
   "source": [
    "print(f\"Solving with {solver.SolverVersion()}\")\n",
    "status = solver.Solve()\n",
    "status == pywraplp.Solver.OPTIMAL"
   ]
  },
  {
   "cell_type": "code",
   "execution_count": 30,
   "metadata": {},
   "outputs": [
    {
     "name": "stdout",
     "output_type": "stream",
     "text": [
      "Total packed value: 24580.0\n"
     ]
    }
   ],
   "source": [
    "print(f\"Total packed value: {objective.Value()}\")"
   ]
  },
  {
   "cell_type": "code",
   "execution_count": 31,
   "metadata": {},
   "outputs": [
    {
     "name": "stdout",
     "output_type": "stream",
     "text": [
      "compartment_0_cargo_1: 10.0\n",
      "compartment_1_cargo_1: 8.0\n",
      "compartment_1_cargo_2: 2.0\n",
      "compartment_1_cargo_3: 6.0\n",
      "compartment_2_cargo_1: 8.0\n"
     ]
    }
   ],
   "source": [
    "from collections import defaultdict\n",
    "\n",
    "compartment_final_weights = defaultdict(int)\n",
    "compartment_final_volumes = defaultdict(int)\n",
    "\n",
    "for i in range(len(compartment_weights)):\n",
    "   for j in range(len(cargos)):\n",
    "      key = f\"compartment_{i}_cargo_{j}\"\n",
    "      if (n := result[key].solution_value()):\n",
    "         compartment_final_weights[i] += n\n",
    "         compartment_final_volumes[i] += n * cargo_volumes[j]\n",
    "         print(f\"{key}: {n}\")"
   ]
  },
  {
   "cell_type": "code",
   "execution_count": 32,
   "metadata": {},
   "outputs": [
    {
     "data": {
      "text/plain": [
       "(defaultdict(int, {0: 10.0, 1: 16.0, 2: 8.0}),\n",
       " defaultdict(int, {0: 6500.0, 1: 8700.0, 2: 5200.0}))"
      ]
     },
     "execution_count": 32,
     "metadata": {},
     "output_type": "execute_result"
    }
   ],
   "source": [
    "compartment_final_weights, compartment_final_volumes"
   ]
  },
  {
   "cell_type": "code",
   "execution_count": 33,
   "metadata": {},
   "outputs": [
    {
     "data": {
      "text/plain": [
       "([10, 16, 8], [6800, 8700, 5300])"
      ]
     },
     "execution_count": 33,
     "metadata": {},
     "output_type": "execute_result"
    }
   ],
   "source": [
    "compartment_weights, compartment_volumes"
   ]
  }
 ],
 "metadata": {
  "kernelspec": {
   "display_name": ".venv",
   "language": "python",
   "name": "python3"
  },
  "language_info": {
   "codemirror_mode": {
    "name": "ipython",
    "version": 3
   },
   "file_extension": ".py",
   "mimetype": "text/x-python",
   "name": "python",
   "nbconvert_exporter": "python",
   "pygments_lexer": "ipython3",
   "version": "3.11.6"
  }
 },
 "nbformat": 4,
 "nbformat_minor": 2
}
