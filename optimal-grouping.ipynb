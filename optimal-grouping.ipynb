{
 "cells": [
  {
   "cell_type": "code",
   "execution_count": 304,
   "id": "aware-visit",
   "metadata": {},
   "outputs": [],
   "source": [
    "from ortools.sat.python import cp_model"
   ]
  },
  {
   "cell_type": "code",
   "execution_count": 319,
   "id": "secret-definition",
   "metadata": {},
   "outputs": [],
   "source": [
    "shipping_options_by_item = {\"1\": list(\"ABC\"), \"2\": list(\"AB\"), \"3\": list(\"C\")}\n",
    "fees = {\"A\": 100, \"B\": 120, \"C\": 110}\n",
    "\n",
    "all_shipping_options = set()\n",
    "for _, options in shipping_options_by_item.items():\n",
    "    all_shipping_options |= set(options)"
   ]
  },
  {
   "cell_type": "code",
   "execution_count": 320,
   "id": "proud-vertical",
   "metadata": {},
   "outputs": [
    {
     "name": "stdout",
     "output_type": "stream",
     "text": [
      "('A', [item:1_option:A(0..1), item:2_option:A(0..1)])\n",
      "('C', [item:1_option:C(0..1), item:3_option:C(0..1)])\n",
      "('B', [item:1_option:B(0..1), item:2_option:B(0..1)])\n"
     ]
    }
   ],
   "source": [
    "model = cp_model.CpModel()\n",
    "\n",
    "combinations = {}\n",
    "\n",
    "for item, options in shipping_options_by_item.items():\n",
    "    for option in options:\n",
    "        combinations[item, option] = model.NewBoolVar(f\"item:{item}_option:{option}\")\n",
    "\n",
    "# Each item can only be shipped from one shipping option.\n",
    "for item, options in shipping_options_by_item.items():\n",
    "    model.AddExactlyOne([combinations[item, option] for option in options])\n",
    "\n",
    "items_by_shipping_option = []\n",
    "for option in all_shipping_options:\n",
    "    result = []\n",
    "    for item in shipping_options_by_item.keys():\n",
    "        if (item, option) in combinations:\n",
    "            result.append(combinations[item, option])\n",
    "    items_by_shipping_option.append((option, result))\n",
    "\n",
    "for item in items_by_shipping_option:\n",
    "    print(item)\n",
    "model.Minimize(\n",
    "    sum([sum(item) * fees[option] for option, item in items_by_shipping_option])\n",
    ")"
   ]
  },
  {
   "cell_type": "code",
   "execution_count": 321,
   "id": "fifteen-valuation",
   "metadata": {},
   "outputs": [],
   "source": [
    "class CombinationSolutionPrinter(cp_model.CpSolverSolutionCallback):\n",
    "    def __init__(self, combinations, fees):\n",
    "        cp_model.CpSolverSolutionCallback.__init__(self)\n",
    "        self._solution_count = 0\n",
    "        self._combinations = combinations\n",
    "        self._fees = fees\n",
    "\n",
    "    def on_solution_callback(self):\n",
    "        self._solution_count += 1\n",
    "        print(\"Solution %i\" % self._solution_count)\n",
    "\n",
    "        combinations = self._combinations\n",
    "        fees = 0\n",
    "        for combination in combinations:\n",
    "            if self.Value(combinations[combination]):\n",
    "                print(combination)\n",
    "                fees += self._fees[combination[1]]\n",
    "        print(\"Fees:\", fees)"
   ]
  },
  {
   "cell_type": "code",
   "execution_count": 322,
   "id": "southern-guinea",
   "metadata": {},
   "outputs": [
    {
     "name": "stdout",
     "output_type": "stream",
     "text": [
      "Solution 1\n",
      "('1', 'B')\n",
      "('2', 'A')\n",
      "('3', 'C')\n",
      "Fees: 330\n",
      "Solution 2\n",
      "('1', 'C')\n",
      "('2', 'A')\n",
      "('3', 'C')\n",
      "Fees: 320\n",
      "Solution 3\n",
      "('1', 'A')\n",
      "('2', 'A')\n",
      "('3', 'C')\n",
      "Fees: 310\n"
     ]
    },
    {
     "data": {
      "text/plain": [
       "True"
      ]
     },
     "execution_count": 322,
     "metadata": {},
     "output_type": "execute_result"
    }
   ],
   "source": [
    "solution_printer = CombinationSolutionPrinter(combinations, fees)\n",
    "\n",
    "solver = cp_model.CpSolver()\n",
    "solver.parameters.enumerate_all_solutions = True\n",
    "solver.Solve(model, solution_printer) in [cp_model.OPTIMAL, cp_model.FEASIBLE]"
   ]
  },
  {
   "cell_type": "code",
   "execution_count": null,
   "id": "white-assembly",
   "metadata": {},
   "outputs": [],
   "source": []
  },
  {
   "cell_type": "code",
   "execution_count": null,
   "id": "north-kenya",
   "metadata": {},
   "outputs": [],
   "source": []
  }
 ],
 "metadata": {
  "kernelspec": {
   "display_name": "Python 3 (ipykernel)",
   "language": "python",
   "name": "python3"
  },
  "language_info": {
   "codemirror_mode": {
    "name": "ipython",
    "version": 3
   },
   "file_extension": ".py",
   "mimetype": "text/x-python",
   "name": "python",
   "nbconvert_exporter": "python",
   "pygments_lexer": "ipython3",
   "version": "3.9.12"
  }
 },
 "nbformat": 4,
 "nbformat_minor": 5
}
