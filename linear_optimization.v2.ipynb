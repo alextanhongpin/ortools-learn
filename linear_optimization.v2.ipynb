{
 "cells": [
  {
   "cell_type": "markdown",
   "id": "automatic-trinity",
   "metadata": {},
   "source": [
    "## Linear Optimization\n",
    "\n",
    "We want to *maximize* `3x + y` subject to the following constraints\n",
    "\n",
    "- 0 <= x <= 1\n",
    "- 0 <= y <= 2\n",
    "- x + y <= 2\n",
    "\n",
    "References \n",
    "- https://developers.google.com/optimization/introduction/python"
   ]
  },
  {
   "cell_type": "code",
   "execution_count": 1,
   "id": "gorgeous-friendly",
   "metadata": {},
   "outputs": [],
   "source": [
    "from ortools.init import pywrapinit\n",
    "from ortools.linear_solver import pywraplp"
   ]
  },
  {
   "cell_type": "code",
   "execution_count": 2,
   "id": "mounted-spring",
   "metadata": {},
   "outputs": [],
   "source": [
    "# Create the linear solver with the GLOP backend.\n",
    "solver = pywraplp.Solver.CreateSolver(\"GLOP\")"
   ]
  },
  {
   "cell_type": "code",
   "execution_count": 3,
   "id": "touched-calculator",
   "metadata": {},
   "outputs": [
    {
     "name": "stdout",
     "output_type": "stream",
     "text": [
      "Number of variables = 2\n"
     ]
    }
   ],
   "source": [
    "# Create the variables\n",
    "x = solver.NumVar(0, 1, \"x\")\n",
    "y = solver.NumVar(0, 2, \"y\")\n",
    "\n",
    "print(\"Number of variables =\", solver.NumVariables())"
   ]
  },
  {
   "cell_type": "code",
   "execution_count": 4,
   "id": "saved-archives",
   "metadata": {},
   "outputs": [
    {
     "name": "stdout",
     "output_type": "stream",
     "text": [
      "Number of constraints = 1\n"
     ]
    }
   ],
   "source": [
    "# Define the constraints.\n",
    "# Create a linear constraint, 0 <= x + y <= 2.\n",
    "ct = solver.Constraint(0, 2, \"ct\")\n",
    "ct.SetCoefficient(x, 1)\n",
    "ct.SetCoefficient(y, 1)\n",
    "\n",
    "print(\"Number of constraints =\", solver.NumConstraints())"
   ]
  },
  {
   "cell_type": "code",
   "execution_count": 5,
   "id": "continuous-meter",
   "metadata": {},
   "outputs": [],
   "source": [
    "# Define the objective function.\n",
    "objective = solver.Objective()\n",
    "objective.SetCoefficient(x, 3)\n",
    "objective.SetCoefficient(y, 1)\n",
    "objective.SetMaximization()"
   ]
  },
  {
   "cell_type": "code",
   "execution_count": 6,
   "id": "suited-proposal",
   "metadata": {},
   "outputs": [
    {
     "name": "stdout",
     "output_type": "stream",
     "text": [
      "Solution:\n",
      "Objective value = 4.0\n",
      "x = 1.0\n",
      "y = 1.0\n"
     ]
    }
   ],
   "source": [
    "solver.Solve()\n",
    "print(\"Solution:\")\n",
    "print(\"Objective value =\", objective.Value())\n",
    "print(\"x =\", x.solution_value())\n",
    "print(\"y =\", y.solution_value())"
   ]
  },
  {
   "cell_type": "markdown",
   "id": "turkish-thanks",
   "metadata": {},
   "source": [
    "# Using cp_model"
   ]
  },
  {
   "cell_type": "code",
   "execution_count": 7,
   "id": "backed-flesh",
   "metadata": {},
   "outputs": [],
   "source": [
    "from ortools.sat.python import cp_model"
   ]
  },
  {
   "cell_type": "code",
   "execution_count": 8,
   "id": "faced-julian",
   "metadata": {},
   "outputs": [],
   "source": [
    "class MaximizeSolutionPrinter(cp_model.CpSolverSolutionCallback):\n",
    "    def __init__(self, x, y):\n",
    "        cp_model.CpSolverSolutionCallback.__init__(self)\n",
    "        self._solution_count = 0\n",
    "        self._x = x\n",
    "        self._y = y\n",
    "\n",
    "    def on_solution_callback(self):\n",
    "        self._solution_count += 1\n",
    "        print(\"Solution %i\" % self._solution_count)\n",
    "        print(\"x = {}, y = {}\".format(self.Value(self._x), self.Value(self._y)))"
   ]
  },
  {
   "cell_type": "code",
   "execution_count": 9,
   "id": "wrong-starter",
   "metadata": {},
   "outputs": [
    {
     "name": "stdout",
     "output_type": "stream",
     "text": [
      "Solution 1\n",
      "x = 1, y = 1\n"
     ]
    },
    {
     "data": {
      "text/plain": [
       "True"
      ]
     },
     "execution_count": 9,
     "metadata": {},
     "output_type": "execute_result"
    }
   ],
   "source": [
    "model = cp_model.CpModel()\n",
    "x = model.NewIntVar(0, 1, \"x\")\n",
    "y = model.NewIntVar(0, 2, \"y\")\n",
    "\n",
    "model.Add(0 <= x + y)\n",
    "model.Add(x + y <= 2)\n",
    "model.Maximize(3 * x + y)\n",
    "solution_printer = MaximizeSolutionPrinter(x, y)\n",
    "\n",
    "solver = cp_model.CpSolver()\n",
    "solver.Solve(model, solution_printer) == cp_model.OPTIMAL"
   ]
  },
  {
   "cell_type": "code",
   "execution_count": 14,
   "id": "appreciated-dictionary",
   "metadata": {},
   "outputs": [
    {
     "data": {
      "text/plain": [
       "(4.0, 1, 1)"
      ]
     },
     "execution_count": 14,
     "metadata": {},
     "output_type": "execute_result"
    }
   ],
   "source": [
    "solver.ObjectiveValue(), solver.Value(x), solver.Value(y)"
   ]
  },
  {
   "cell_type": "code",
   "execution_count": 15,
   "id": "professional-rough",
   "metadata": {},
   "outputs": [
    {
     "name": "stdout",
     "output_type": "stream",
     "text": [
      "CpSolverResponse summary:\n",
      "status: OPTIMAL\n",
      "objective: 4\n",
      "best_bound: 4\n",
      "booleans: 0\n",
      "conflicts: 0\n",
      "branches: 0\n",
      "propagations: 0\n",
      "integer_propagations: 0\n",
      "restarts: 0\n",
      "lp_iterations: 0\n",
      "walltime: 0.004344\n",
      "usertime: 0.004344\n",
      "deterministic_time: 6.4e-07\n",
      "gap_integral: 0\n",
      "\n"
     ]
    }
   ],
   "source": [
    "print(solver.ResponseStats())"
   ]
  },
  {
   "cell_type": "code",
   "execution_count": 12,
   "id": "grand-houston",
   "metadata": {},
   "outputs": [
    {
     "name": "stdout",
     "output_type": "stream",
     "text": [
      "Help on CpSolver in module ortools.sat.python.cp_model object:\n",
      "\n",
      "class CpSolver(builtins.object)\n",
      " |  Main solver class.\n",
      " |  \n",
      " |  The purpose of this class is to search for a solution to the model provided\n",
      " |  to the Solve() method.\n",
      " |  \n",
      " |  Once Solve() is called, this class allows inspecting the solution found\n",
      " |  with the Value() and BooleanValue() methods, as well as general statistics\n",
      " |  about the solve procedure.\n",
      " |  \n",
      " |  Methods defined here:\n",
      " |  \n",
      " |  BestObjectiveBound(self)\n",
      " |      Returns the best lower (upper) bound found when min(max)imizing.\n",
      " |  \n",
      " |  BooleanValue(self, literal)\n",
      " |      Returns the boolean value of a literal after solve.\n",
      " |  \n",
      " |  NumBooleans(self)\n",
      " |      Returns the number of boolean variables managed by the SAT solver.\n",
      " |  \n",
      " |  NumBranches(self)\n",
      " |      Returns the number of search branches explored by the solver.\n",
      " |  \n",
      " |  NumConflicts(self)\n",
      " |      Returns the number of conflicts since the creation of the solver.\n",
      " |  \n",
      " |  ObjectiveValue(self)\n",
      " |      Returns the value of the objective after solve.\n",
      " |  \n",
      " |  ResponseProto(self)\n",
      " |      Returns the response object.\n",
      " |  \n",
      " |  ResponseStats(self)\n",
      " |      Returns some statistics on the solution found as a string.\n",
      " |  \n",
      " |  SearchForAllSolutions(self, model, callback)\n",
      " |      DEPRECATED Use Solve() with the right parameter.\n",
      " |      \n",
      " |      Search for all solutions of a satisfiability problem.\n",
      " |      \n",
      " |      This method searches for all feasible solutions of a given model.\n",
      " |      Then it feeds the solution to the callback.\n",
      " |      \n",
      " |      Note that the model cannot contain an objective.\n",
      " |      \n",
      " |      Args:\n",
      " |        model: The model to solve.\n",
      " |        callback: The callback that will be called at each solution.\n",
      " |      \n",
      " |      Returns:\n",
      " |        The status of the solve:\n",
      " |      \n",
      " |        * *FEASIBLE* if some solutions have been found\n",
      " |        * *INFEASIBLE* if the solver has proved there are no solution\n",
      " |        * *OPTIMAL* if all solutions have been found\n",
      " |  \n",
      " |  SolutionInfo(self)\n",
      " |      Returns some information on the solve process.\n",
      " |      \n",
      " |      Returns some information on how the solution was found, or the reason\n",
      " |      why the model or the parameters are invalid.\n",
      " |  \n",
      " |  Solve(self, model, solution_callback=None)\n",
      " |      Solves a problem and passes each solution to the callback if not null.\n",
      " |  \n",
      " |  SolveWithSolutionCallback(self, model, callback)\n",
      " |      DEPRECATED Use Solve() with the callback argument.\n",
      " |  \n",
      " |  StatusName(self, status=None)\n",
      " |      Returns the name of the status returned by Solve().\n",
      " |  \n",
      " |  StopSearch(self)\n",
      " |      Stops the current search asynchronously.\n",
      " |  \n",
      " |  SufficientAssumptionsForInfeasibility(self)\n",
      " |      Returns the indices of the infeasible assumptions.\n",
      " |  \n",
      " |  UserTime(self)\n",
      " |      Returns the user time in seconds since the creation of the solver.\n",
      " |  \n",
      " |  Value(self, expression)\n",
      " |      Returns the value of a linear expression after solve.\n",
      " |  \n",
      " |  WallTime(self)\n",
      " |      Returns the wall time in seconds since the creation of the solver.\n",
      " |  \n",
      " |  __init__(self)\n",
      " |      Initialize self.  See help(type(self)) for accurate signature.\n",
      " |  \n",
      " |  ----------------------------------------------------------------------\n",
      " |  Data descriptors defined here:\n",
      " |  \n",
      " |  __dict__\n",
      " |      dictionary for instance variables (if defined)\n",
      " |  \n",
      " |  __weakref__\n",
      " |      list of weak references to the object (if defined)\n",
      "\n"
     ]
    }
   ],
   "source": [
    "help(solver)"
   ]
  },
  {
   "cell_type": "code",
   "execution_count": null,
   "id": "adjustable-commonwealth",
   "metadata": {},
   "outputs": [],
   "source": []
  }
 ],
 "metadata": {
  "kernelspec": {
   "display_name": "Python 3 (ipykernel)",
   "language": "python",
   "name": "python3"
  },
  "language_info": {
   "codemirror_mode": {
    "name": "ipython",
    "version": 3
   },
   "file_extension": ".py",
   "mimetype": "text/x-python",
   "name": "python",
   "nbconvert_exporter": "python",
   "pygments_lexer": "ipython3",
   "version": "3.9.12"
  }
 },
 "nbformat": 4,
 "nbformat_minor": 5
}
