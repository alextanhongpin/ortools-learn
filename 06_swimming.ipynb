{
 "cells": [
  {
   "cell_type": "markdown",
   "metadata": {},
   "source": [
    "## Question 6\n",
    "\n",
    "Resource: https://web.itu.edu.tr/topcuil/ya/SEN301previousexamquestions.pdf\n",
    "\n",
    "Turkish national swimming team coach is putting together a relay team for the 400 meter relay. Each swimmer must swim 100 meters of breaststroke, backstroke, butterfly, or free style. The coach believes that each swimmer will attain the times (seconds) given in the Table below. To minimize the team’s time for the race, assign each swimmer for a stroke.   \n",
    "\n",
    "| Swimmer | Free | Breast  |  Fly  |  Back |\n",
    "| -- | -- | -- | -- | -- | \n",
    "| Derya |  54  |  54   | 51 |     53 |\n",
    "| Murat  | 51  |  57  | 52 | 52 |\n",
    "| Deniz |  50  | 53 |   54  |   56 |\n",
    "| Ceyhun | 56 | 54 |  55  |   53  |"
   ]
  },
  {
   "cell_type": "code",
   "execution_count": 4,
   "metadata": {},
   "outputs": [
    {
     "data": {
      "text/plain": [
       "4"
      ]
     },
     "execution_count": 4,
     "metadata": {},
     "output_type": "execute_result"
    }
   ],
   "source": [
    "from ortools.sat.python import cp_model\n",
    "\n",
    "\n",
    "n_swimmers = 4\n",
    "n_styles = 4\n",
    "styles = {}\n",
    "\n",
    "model = cp_model.CpModel()\n",
    "for i in range(n_swimmers):\n",
    "  for j in range(n_styles):\n",
    "    styles[i, j] = model.NewBoolVar(f'swimmer_{i}_style_{j}')\n",
    "  \n",
    "  # Each swimmer has exactly one style.\n",
    "  model.AddExactlyOne(styles[i, j] for j in range(n_styles))\n",
    "\n",
    "for j in range(n_styles):\n",
    "  # Each style has exactly one swimmer.\n",
    "  model.AddExactlyOne(styles[i, j] for i in range(n_swimmers))\n",
    "\n",
    "   \n",
    "# Each swimmer has a time for each style.\n",
    "times = [\n",
    "  [54, 54, 51, 53],\n",
    "  [51, 57, 52, 52],\n",
    "  [50, 53, 54, 56],\n",
    "  [56, 64, 55, 53]\n",
    "]\n",
    "\n",
    "time = []\n",
    "for i in range(n_swimmers):\n",
    "  for j in range(n_styles):\n",
    "    time.append(times[i][j] * styles[i, j])\n",
    "  \n",
    "model.Minimize(sum(time))\n",
    "\n",
    "solver = cp_model.CpSolver()\n",
    "status = solver.Solve(model)\n",
    "status"
   ]
  },
  {
   "cell_type": "code",
   "execution_count": 6,
   "metadata": {},
   "outputs": [
    {
     "data": {
      "text/plain": [
       "'OPTIMAL'"
      ]
     },
     "execution_count": 6,
     "metadata": {},
     "output_type": "execute_result"
    }
   ],
   "source": [
    "solver.StatusName(status)"
   ]
  },
  {
   "cell_type": "code",
   "execution_count": 7,
   "metadata": {},
   "outputs": [
    {
     "data": {
      "text/plain": [
       "208.0"
      ]
     },
     "execution_count": 7,
     "metadata": {},
     "output_type": "execute_result"
    }
   ],
   "source": [
    "solver.ObjectiveValue()"
   ]
  },
  {
   "cell_type": "code",
   "execution_count": 12,
   "metadata": {},
   "outputs": [
    {
     "name": "stdout",
     "output_type": "stream",
     "text": [
      "Derya has style fly, takes 51 seconds\n",
      "Murat has style free, takes 51 seconds\n",
      "Deniz has style breast, takes 53 seconds\n",
      "Seyhun has style back, takes 53 seconds\n"
     ]
    }
   ],
   "source": [
    "swimmer_names = ['Derya', 'Murat', 'Deniz', 'Seyhun']\n",
    "style_names = ['free', 'breast', 'fly', 'back']\n",
    "\n",
    "for i in range(n_swimmers):\n",
    "  for j in range(n_styles):\n",
    "    if solver.Value(styles[i, j]):\n",
    "      print(f'{swimmer_names[i]} has style {style_names[j]}, takes {times[i][j]} seconds')"
   ]
  }
 ],
 "metadata": {
  "kernelspec": {
   "display_name": "Python 3 (ipykernel)",
   "language": "python",
   "name": "python3"
  },
  "language_info": {
   "codemirror_mode": {
    "name": "ipython",
    "version": 3
   },
   "file_extension": ".py",
   "mimetype": "text/x-python",
   "name": "python",
   "nbconvert_exporter": "python",
   "pygments_lexer": "ipython3",
   "version": "3.11.6"
  },
  "widgets": {
   "application/vnd.jupyter.widget-state+json": {
    "state": {},
    "version_major": 2,
    "version_minor": 0
   }
  }
 },
 "nbformat": 4,
 "nbformat_minor": 4
}
